{
 "cells": [
  {
   "cell_type": "markdown",
   "id": "9e713774",
   "metadata": {},
   "source": [
    "# Download Files"
   ]
  },
  {
   "cell_type": "code",
   "execution_count": null,
   "id": "b1a64427",
   "metadata": {},
   "outputs": [],
   "source": [
    "from huggingface_hub import snapshot_download\n",
    "from pathlib import Path\n",
    "\n",
    "repo_id = \"neashton/ahmedml\"\n",
    "\n",
    "start_idx = 1\n",
    "end_idx = 151\n",
    "\n",
    "# run_1 ~ run_100 에 대한 boundary_*.vtp만 허용\n",
    "# Add 'force_mom_' files\n",
    "allow = [f\"run_{i}/boundary_*.vtp\" for i in range(start_idx, end_idx)] +\\\n",
    "        [f\"run_{i}/force_mom_*.csv\" for i in range(start_idx, end_idx)] \n",
    "\n",
    "subset_dir = snapshot_download(\n",
    "    repo_id=repo_id,\n",
    "    repo_type=\"dataset\",\n",
    "    local_dir=\"/content/ahmedml_boundary_subset\",  # 코랩 로컬에 저장 (빠름)\n",
    "    local_dir_use_symlinks=False,                  # 캐시 링크 대신 실제 파일 복사\n",
    "    allow_patterns=allow\n",
    ")\n",
    "\n",
    "print(\"Saved to:\", subset_dir)\n",
    "print(\"VTP files found:\", len(list(Path(subset_dir).rglob(\"boundary_*.vtp\"))))\n",
    "print(\"CSV files found:\", len(list(Path(subset_dir).rglob(\"force_mom_*.csv\"))))\n",
    "# 샘플 몇 개 확인\n",
    "print(\"Sample VTP:\", [str(p) for p in list(Path(subset_dir).rglob('boundary_*.vtp'))[:5]])\n",
    "print(\"Sample CSV:\", [str(p) for p in list(Path(subset_dir).rglob('force_mom_*.csv'))[:5]])"
   ]
  },
  {
   "cell_type": "code",
   "execution_count": null,
   "id": "a4bbea08",
   "metadata": {},
   "outputs": [],
   "source": []
  }
 ],
 "metadata": {
  "kernelspec": {
   "display_name": "jyk",
   "language": "python",
   "name": "python3"
  },
  "language_info": {
   "codemirror_mode": {
    "name": "ipython",
    "version": 3
   },
   "file_extension": ".py",
   "mimetype": "text/x-python",
   "name": "python",
   "nbconvert_exporter": "python",
   "pygments_lexer": "ipython3",
   "version": "3.10.18"
  }
 },
 "nbformat": 4,
 "nbformat_minor": 5
}
