{
 "cells": [
  {
   "cell_type": "markdown",
   "metadata": {},
   "source": [
    "# Initialization"
   ]
  },
  {
   "cell_type": "code",
   "execution_count": 1,
   "metadata": {},
   "outputs": [
    {
     "name": "stderr",
     "output_type": "stream",
     "text": [
      "c:\\Users\\Junyoung Kim\\.conda\\envs\\pyg5090\\Lib\\site-packages\\tqdm\\auto.py:21: TqdmWarning: IProgress not found. Please update jupyter and ipywidgets. See https://ipywidgets.readthedocs.io/en/stable/user_install.html\n",
      "  from .autonotebook import tqdm as notebook_tqdm\n"
     ]
    }
   ],
   "source": [
    "# -*- coding: utf-8 -*-\n",
    "\"\"\"\n",
    "Fast mesh->graph pipeline (ProcessPool + caching + timing logger)\n",
    "\n",
    "Usage:\n",
    "  python build_graphs.py\n",
    "  # 또는 인자 조정:\n",
    "  python build_graphs.py --data_root \"D:/ahmed_data\" --target_field \"static(p)_coeffMean\" --run_range 1 30 --edge_mode auto --no_cache\n",
    "\"\"\"\n",
    "\n",
    "import os\n",
    "# ---- 내부 OpenMP/BLAS 스레드 폭주 방지 (N 프로세스 × 1 스레드) ----\n",
    "os.environ.setdefault(\"OMP_NUM_THREADS\", \"1\")\n",
    "os.environ.setdefault(\"OPENBLAS_NUM_THREADS\", \"1\")\n",
    "os.environ.setdefault(\"MKL_NUM_THREADS\", \"1\")\n",
    "os.environ.setdefault(\"NUMEXPR_NUM_THREADS\", \"1\")\n",
    "\n",
    "import argparse\n",
    "import json\n",
    "import hashlib\n",
    "import time\n",
    "import re\n",
    "import difflib\n",
    "import random\n",
    "from pathlib import Path\n",
    "from concurrent.futures import ProcessPoolExecutor, ThreadPoolExecutor, as_completed\n",
    "\n",
    "import numpy as np\n",
    "import torch\n",
    "from tqdm.auto import tqdm\n",
    "# from scipy.spatial import cKDTree\n"
   ]
  },
  {
   "cell_type": "code",
   "execution_count": 2,
   "metadata": {},
   "outputs": [
    {
     "name": "stdout",
     "output_type": "stream",
     "text": [
      "Using torch_geometric Data class\n"
     ]
    }
   ],
   "source": [
    "\n",
    "# ---- PyG가 있으면 Data 사용, 없으면 최소 대체 ----\n",
    "try:\n",
    "    from torch_geometric.data import Data as GeoData\n",
    "    print(\"Using torch_geometric Data class\")\n",
    "except Exception:\n",
    "    class GeoData:\n",
    "        def __init__(self, x, edge_index, y, y_graph):\n",
    "            self.x = x\n",
    "            self.edge_index = edge_index\n",
    "            self.y = y\n",
    "            self.y_graph = y_graph"
   ]
  },
  {
   "cell_type": "markdown",
   "metadata": {},
   "source": [
    "# Utilities"
   ]
  },
  {
   "cell_type": "code",
   "execution_count": 3,
   "metadata": {},
   "outputs": [],
   "source": [
    "# ----------------------------\n",
    "# 기본 옵션(필요 시 CLI로 덮어쓰기)\n",
    "# ----------------------------\n",
    "KNN_K = 8\n",
    "STRICT_BOUNDARY_ONLY = True\n",
    "AUTO_GUESS_TARGET = True\n",
    "NORMALIZE_TARGET = False\n",
    "USE_NORMALS = False\n",
    "INCLUDE_TARGET_IN_X = False\n",
    "NORMALIZE_X = False\n",
    "ALLOW_DTYPE = (np.float32, np.float64)\n",
    "MAX_FEATURE_DIM = 16\n",
    "\n",
    "EDGE_MODE = \"auto\"          # auto | face | knn\n",
    "DO_CELL_TO_POINT = True\n",
    "DO_COMPUTE_NORMALS = False\n",
    "RUN_RANGE = (1, 101)         # None 이면 전체\n",
    "\n",
    "CACHE_ENABLE = True\n",
    "CACHE_PATH = Path(\"graphs_cache.pt\")\n",
    "CACHE_META = Path(\"graphs_cache.meta.json\")\n"
   ]
  },
  {
   "cell_type": "code",
   "execution_count": 4,
   "metadata": {},
   "outputs": [],
   "source": [
    "import re, numpy as np\n",
    "from pathlib import Path\n",
    "import pandas as pd\n",
    "import json, os, tempfile\n",
    "\n",
    "def _normpath(p):  # 경로 표준화\n",
    "    try:\n",
    "        return str(Path(p).resolve())\n",
    "    except Exception:\n",
    "        return str(Path(p))\n",
    "\n",
    "\n",
    "def extract_run_id_from_mesh(path_str, pattern=r\"run[_\\-]?(\\d+)\"):\n",
    "    p = Path(path_str)\n",
    "\n",
    "    # 1) 모든 부모 폴더에서 run_* 찾기\n",
    "    for parent in p.parents:\n",
    "        m = re.search(pattern, parent.name.strip(), flags=re.IGNORECASE)\n",
    "        if m:\n",
    "            return m.group(1)\n",
    "\n",
    "    # 2) 경로의 모든 파츠에서도 시도 (드문 케이스 대비)\n",
    "    for part in p.parts:\n",
    "        m = re.search(pattern, str(part).strip(), flags=re.IGNORECASE)\n",
    "        if m:\n",
    "            return m.group(1)\n",
    "\n",
    "    # 3) 마지막으로 파일명(확장자 제외)에서 시도\n",
    "    m = re.search(pattern, p.stem.strip(), flags=re.IGNORECASE)\n",
    "    if m:\n",
    "        return m.group(1)\n",
    "\n",
    "    return None\n",
    "\n",
    "def _extract_run_id(path_str: str, pattern=r\"run[_\\-]?(\\d+)\"):\n",
    "    m = re.search(pattern, path_str, flags=re.IGNORECASE)\n",
    "    return m.group(1) if m else None\n",
    "\n",
    "def _build_csv_index(csv_dir, csv_glob=\"*.csv\", run_id_regex=(r\"run[_\\-]?(\\d+)\", r\"_(\\d+)$\", r\"(\\d+)$\")):\n",
    "    \"\"\"\n",
    "    csv_dir 안의 CSV들을 훑어서\n",
    "    - 파일명에서 run_id 정규식으로 추출\n",
    "    - 실패하면 CSV 내용의 열(run_id, Run, case_id 등)에서 시도\n",
    "    - 그래도 실패하면 파일 전체경로를 key로 저장 (후보군)\n",
    "    return: dict(run_id -> Path), dict('__unmatched__' -> [Path, ...])\n",
    "    \"\"\"\n",
    "    csv_dir = Path(csv_dir)\n",
    "    idx = {}\n",
    "    unmatched = []\n",
    "    for p in sorted(csv_dir.rglob(csv_glob)):\n",
    "        rid = _extract_run_id(p.stem, run_id_regex)\n",
    "        if rid is None:\n",
    "            # 내용에서 찾기 시도 (있으면 사용)\n",
    "            try:\n",
    "                df = pd.read_csv(p, nrows=5)  # 가볍게 헤더만\n",
    "                cand_cols = [c for c in df.columns if str(c).lower() in (\"run_id\",\"run\",\"case_id\",\"case\",\"id\")]\n",
    "                if cand_cols:\n",
    "                    val = str(df[cand_cols[0]].iloc[0])\n",
    "                    if isinstance(val, str) and val.strip():\n",
    "                        rid = re.sub(r\"\\D+\", \"\", val) or val  # 숫자만 뽑아보거나 원문\n",
    "            except Exception:\n",
    "                pass\n",
    "        if rid is None:\n",
    "            unmatched.append(p)\n",
    "        else:\n",
    "            idx[str(rid)] = p\n",
    "    return idx, {\"__unmatched__\": unmatched}\n",
    "\n",
    "def _find_csv_for_mesh(mesh_path: str, idx: dict, fallbacks: dict, run_id_regex=(r\"run[_\\-]?(\\d+)\", r\"_(\\d+)$\", r\"(\\d+)$\")):\n",
    "    \"\"\"\n",
    "    1순위: 메쉬 파일명에서 run_id 추출 → idx에서 찾기\n",
    "    2순위: 메쉬와 같은 폴더/부모 폴더에서 같은 숫자/토큰 들어간 CSV 검색\n",
    "    3순위: 그래도 없으면 None\n",
    "    \"\"\"\n",
    "    mesh_path = Path(mesh_path)\n",
    "\n",
    "    rid = extract_run_id_from_mesh(mesh_path)\n",
    "\n",
    "    if rid is not None and str(rid) in idx:\n",
    "        return idx[str(rid)]\n",
    "\n",
    "    # 2) 근거리 폴더 휴리스틱\n",
    "    candidates = []\n",
    "    for scope in [mesh_path.parent, mesh_path.parent.parent]:\n",
    "        if scope and scope.exists():\n",
    "            for p in scope.glob(\"*.csv\"):\n",
    "                name = p.stem.lower()\n",
    "                # 파일명 유사도 휴리스틱: 숫자 토큰/슬러그 공유 시\n",
    "                if rid and (rid in name):\n",
    "                    candidates.append(p)\n",
    "            # 너무 많으면 break\n",
    "            if candidates:\n",
    "                break\n",
    "    if candidates:\n",
    "        # 가장 가까운 폴더의 첫 번째를 반환\n",
    "        return sorted(candidates, key=lambda p: (p.parent != mesh_path.parent, p.name))[0]\n",
    "\n",
    "    # 3) 인덱스에 unmatched가 있으면 하나라도 힌트 출력\n",
    "    if fallbacks.get(\"__unmatched__\"):\n",
    "        # 디버그용: 가장 최근 CSV 하나 찍어주기\n",
    "        return None\n",
    "    return None\n",
    "\n",
    "\n",
    "def _jsonable(obj):\n",
    "    if isinstance(obj, Path):\n",
    "        return str(obj)\n",
    "    if isinstance(obj, (np.generic,)):  # np.int32, np.float32 등\n",
    "        return obj.item()\n",
    "    if isinstance(obj, (set, tuple)):\n",
    "        return list(obj)\n",
    "    if isinstance(obj, dict):\n",
    "        return {str(k): _jsonable(v) for k, v in obj.items()}\n",
    "    if isinstance(obj, (list,)):\n",
    "        return [_jsonable(v) for v in obj]\n",
    "    # 필요시 더 추가: e.g., torch.dtype, enum 등\n",
    "    return obj\n",
    "\n",
    "def safe_json_load(path):\n",
    "    \"\"\"Return obj or None if empty/corrupt.\"\"\"\n",
    "    try:\n",
    "        with open(path, \"rb\") as f:\n",
    "            raw = f.read()\n",
    "        if not raw or not raw.strip():\n",
    "            return None  # empty file\n",
    "        # UTF-8 BOM 방지\n",
    "        s = raw.decode(\"utf-8-sig\")\n",
    "        return json.loads(s)\n",
    "    except Exception:\n",
    "        return None  # corrupt\n",
    "\n",
    "def safe_json_dump_atomic(obj, path):\n",
    "    \"\"\"Write JSON atomically to avoid partial writes.\"\"\"\n",
    "    d = os.path.dirname(path) or \".\"\n",
    "    os.makedirs(d, exist_ok=True)\n",
    "    fd, tmp = tempfile.mkstemp(prefix=\".meta_tmp_\", dir=d)\n",
    "    try:\n",
    "        with os.fdopen(fd, \"w\", encoding=\"utf-8\") as f:\n",
    "            json.dump(obj, f, ensure_ascii=False, sort_keys=True)\n",
    "        os.replace(tmp, path)  # atomic on same filesystem\n",
    "    except Exception:\n",
    "        # 실패 시 임시파일 제거\n",
    "        try: os.remove(tmp)\n",
    "        except Exception: pass\n",
    "        raise\n",
    "\n",
    "def _extract_run_id_from_path(path_str: str, pattern=r\"run[_\\-]?(\\d+)\"):\n",
    "    m = re.search(pattern, Path(path_str).stem)\n",
    "    return m.group(1) if m else Path(path_str).stem\n",
    "\n",
    "def _load_graph_level_target_from_csv(path_str: str, cfg: dict):\n",
    "    \"\"\"\n",
    "    path_str: 현재 run의 메쉬 파일 경로\n",
    "    cfg: options[\"GRAPH_TARGET\"]\n",
    "    return: np.ndarray(shape=[T], dtype=np.float32) or None\n",
    "    \"\"\"\n",
    "    csv_dir   = Path(cfg[\"CSV_DIR\"])\n",
    "    run_id_rx = cfg.get(\"RUN_ID_REGEX\", r\"run[_\\-]?(\\d+)\")\n",
    "    csv_glob  = cfg.get(\"CSV_GLOB\", \"*.csv\")\n",
    "    cols      = cfg.get(\"TARGET_COLS\", [\"cd\",\"cl\"])\n",
    "    agg       = cfg.get(\"AGG\", \"last\").lower()\n",
    "    fname_pat = cfg.get(\"FILENAME_MATCH\", \"{run_id}\")\n",
    "\n",
    "\n",
    "    run_id = _extract_run_id_from_path(path_str, run_id_rx)\n",
    "\n",
    "    # 후보 CSV들 나열\n",
    "    cands = sorted(csv_dir.glob(csv_glob))\n",
    "    # 파일명에 run_id가 포함된 것 우선 필터\n",
    "    cands = [p for p in cands if fname_pat.format(run_id=run_id) in p.stem] or cands\n",
    "    if not cands:\n",
    "        return None\n",
    "\n",
    "    # 가장 그럴듯한 1개 선택(필요시 더 정교화 가능)\n",
    "    csv_path = cands[0]\n",
    "    try:\n",
    "        df = pd.read_csv(csv_path)\n",
    "    except Exception:\n",
    "        return None\n",
    "\n",
    "    if df.empty:\n",
    "        return None\n",
    "\n",
    "    # 여러 행이면 집계\n",
    "    if agg == \"last\":\n",
    "        row = df.iloc[-1]\n",
    "    elif agg == \"first\":\n",
    "        row = df.iloc[0]\n",
    "    elif agg == \"mean\":\n",
    "        row = df.mean(numeric_only=True)\n",
    "    else:\n",
    "        row = df.iloc[-1]\n",
    "\n",
    "    out = []\n",
    "    for c in cols:\n",
    "        if c in row and np.isfinite(row[c]):\n",
    "            out.append(float(row[c]))\n",
    "        else:\n",
    "            return None\n",
    "    return np.asarray(out, dtype=np.float32)  # shape [T]\n",
    "\n",
    "def canonical(name: str):\n",
    "    return re.sub(r'[^a-z0-9]+', '', name.lower())\n",
    "\n",
    "def _safe_is_numeric(arr):\n",
    "    return isinstance(arr, np.ndarray) and arr.dtype.type in (np.float32, np.float64)\n",
    "\n",
    "def _is_bad_array(arr):\n",
    "    return not np.isfinite(arr).all()\n",
    "\n",
    "def _maybe_reshape(arr):\n",
    "    if arr.ndim == 1:\n",
    "        return arr.reshape(-1, 1)\n",
    "    return arr\n",
    "\n",
    "def _zscore_inplace(arr):\n",
    "    m = arr.mean(axis=0, keepdims=True)\n",
    "    s = arr.std(axis=0, keepdims=True) + 1e-8\n",
    "    return (arr - m) / s\n",
    "\n",
    "def build_knn_edges(points, k=KNN_K):\n",
    "    tree = cKDTree(points)\n",
    "    # 내부 스레드 폭주 방지 위해 n_jobs 인자 제거 (단일스레드)\n",
    "    dists, idx = tree.query(points, k=k+1)\n",
    "    send = np.repeat(np.arange(points.shape[0]), k)\n",
    "    recv = idx[:, 1:].reshape(-1)\n",
    "    e = np.stack([send, recv], axis=0)\n",
    "    rev = np.stack([recv, send], axis=1)\n",
    "    all_e = np.concatenate([e, rev], axis=1)\n",
    "    return np.unique(all_e, axis=1)\n",
    "\n",
    "def _edge_from_faces_or_knn(surf_all_points, faces_arr, edge_mode=\"auto\", k=KNN_K):\n",
    "    if edge_mode == \"knn\":\n",
    "        return build_knn_edges(surf_all_points, k=k)\n",
    "    if edge_mode == \"face\" and (faces_arr is None or faces_arr.size == 0):\n",
    "        return build_knn_edges(surf_all_points, k=k)\n",
    "\n",
    "    if faces_arr is None or faces_arr.size == 0:\n",
    "        return build_knn_edges(surf_all_points, k=k)\n",
    "\n",
    "    try:\n",
    "        tris = faces_arr.reshape(-1, 4)[:, 1:]\n",
    "        e_pairs = np.vstack([tris[:, [0, 1]], tris[:, [1, 2]], tris[:, [2, 0]]])\n",
    "        e_pairs_rev = e_pairs[:, [1, 0]]\n",
    "        edge_index = np.unique(np.vstack([e_pairs, e_pairs_rev]), axis=0).T\n",
    "        return edge_index\n",
    "    except ValueError:\n",
    "        return build_knn_edges(surf_all_points, k=k)\n",
    "\n",
    "def find_target_name(mesh, target_field, auto_guess=True):\n",
    "    point_fields = list(mesh.point_data.keys())\n",
    "    cell_fields  = list(mesh.cell_data.keys())\n",
    "    field_fields = list(mesh.field_data.keys())\n",
    "    combined_set = set(point_fields) | set(cell_fields) | set(field_fields)\n",
    "\n",
    "    if target_field in mesh.point_data:\n",
    "        return target_field, 'point'\n",
    "    if target_field in mesh.cell_data:\n",
    "        return target_field, 'cell'\n",
    "\n",
    "    canon_target = canonical(target_field)\n",
    "    matches = [f for f in combined_set if canonical(f) == canon_target]\n",
    "    if matches:\n",
    "        t = matches[0]\n",
    "        loc = 'point' if t in point_fields else ('cell' if t in cell_fields else 'field')\n",
    "        return t, loc\n",
    "\n",
    "    if auto_guess:\n",
    "        heuristic = [f for f in combined_set if 'p' in f.lower() and ('coeff' in f.lower() or 'cp' in f.lower())]\n",
    "        if heuristic:\n",
    "            t = heuristic[0]\n",
    "            loc = 'point' if t in point_fields else ('cell' if t in cell_fields else 'field')\n",
    "            return t, loc\n",
    "\n",
    "        close = difflib.get_close_matches(target_field, list(combined_set), n=1, cutoff=0.25)\n",
    "        if close:\n",
    "            t = close[0]\n",
    "            loc = 'point' if t in point_fields else ('cell' if t in cell_fields else 'field')\n",
    "            return t, loc\n",
    "\n",
    "    return None, None\n",
    "\n",
    "\n",
    "def _filter_run_dirs(run_dirs, run_range):\n",
    "    if run_range is None:\n",
    "        return run_dirs\n",
    "    lo, hi = run_range\n",
    "    kept = []\n",
    "    for rd in run_dirs:\n",
    "        try:\n",
    "            n = int(rd.name.split(\"_\")[1])\n",
    "        except Exception:\n",
    "            continue\n",
    "        if lo <= n <= hi:\n",
    "            kept.append(rd)\n",
    "    return kept\n",
    "\n",
    "def _fingerprint(mesh_files, extra: dict):\n",
    "    entries = []\n",
    "    for p in mesh_files:\n",
    "        try:\n",
    "            st = p.stat()\n",
    "            entries.append([str(p), int(st.st_mtime), int(st.st_size)])\n",
    "        except FileNotFoundError:\n",
    "            entries.append([str(p), 0, 0])\n",
    "    payload = {\"files\": entries, \"extra\": extra}\n",
    "\n",
    "    payload_jsonable = _jsonable(payload)\n",
    "\n",
    "    s = json.dumps(payload_jsonable, sort_keys=True).encode(\"utf-8\")\n",
    "    h = hashlib.sha1(s).hexdigest()\n",
    "    return h, payload_jsonable\n"
   ]
  },
  {
   "cell_type": "markdown",
   "metadata": {},
   "source": [
    "# Process One"
   ]
  },
  {
   "cell_type": "code",
   "execution_count": 5,
   "metadata": {
    "colab": {
     "base_uri": "https://localhost:8080/",
     "height": 1000,
     "referenced_widgets": [
      "bda034c676a2458aa66f0cc299d3d9b0",
      "707b3d58f11d4385af33b4d33aef4793",
      "066f828c35634020830e137a040e3618",
      "9e1453459aae45dd83a88c76d42a583c",
      "d8b187f076484875b6c92323a4ab9618",
      "6325aee194474553bd47bf3760d01ca8",
      "b55c72f0e3e3448ab823542abb88cf08",
      "be5e4b29339d4e5d8f26697e6272b9da",
      "257c6782bf8345eea2ed23548539bf43",
      "239b0ed783be4c36b47a08a78d04b302",
      "46892e563cd340b6a04c55f53f45a85b"
     ]
    },
    "collapsed": true,
    "executionInfo": {
     "elapsed": 897490,
     "status": "ok",
     "timestamp": 1755494695612,
     "user": {
      "displayName": "Junyoung Kim",
      "userId": "14138782583887987585"
     },
     "user_tz": -540
    },
    "id": "8bFA5k5sJitN",
    "outputId": "46e745db-c0c2-4d7b-ab00-41704e7c3650"
   },
   "outputs": [],
   "source": [
    "# -------- 단일 파일 처리 (멀티프로세싱 대상) --------\n",
    "def process_one(path_str: str, options: dict):\n",
    "    import os\n",
    "    import time\n",
    "    import pyvista as pv\n",
    "\n",
    "    pid = os.getpid()\n",
    "    t0 = time.time()\n",
    "    try:\n",
    "        mesh = pv.read(path_str)\n",
    "    except Exception as e:\n",
    "        return None, ('read_error', os.path.basename(path_str), str(e))\n",
    "\n",
    "    if mesh.n_points == 0:\n",
    "        return None, ('empty', os.path.basename(path_str))\n",
    "\n",
    "    t_read = time.time()\n",
    "\n",
    "    # 표면 + 삼각화\n",
    "    surf = mesh.extract_surface()\n",
    "    if not getattr(surf, \"is_all_triangles\", False):\n",
    "        try:\n",
    "            surf = surf.triangulate()\n",
    "        except Exception:\n",
    "            pass\n",
    "    t_surface = time.time()\n",
    "\n",
    "    # cell->point\n",
    "    if options[\"DO_CELL_TO_POINT\"]:\n",
    "        try:\n",
    "            surf_all = surf.cell_data_to_point_data()\n",
    "        except Exception:\n",
    "            surf_all = surf\n",
    "    else:\n",
    "        surf_all = surf\n",
    "    t_c2p = time.time()\n",
    "\n",
    "    # 타깃 찾기\n",
    "    target_name, source_loc = find_target_name(\n",
    "        surf_all, options[\"TARGET_FIELD\"], auto_guess=options[\"AUTO_GUESS_TARGET\"]\n",
    "    )\n",
    "    if target_name is None:\n",
    "        return None, ('no_target', os.path.basename(path_str),\n",
    "                      list(surf_all.point_data.keys()), list(surf_all.cell_data.keys()))\n",
    "\n",
    "    # 타깃 y\n",
    "    if target_name in surf_all.point_data:\n",
    "        y_raw = surf_all.point_data[target_name]\n",
    "    else:\n",
    "        if source_loc == 'point':\n",
    "            try:\n",
    "                sampled = surf_all.sample(mesh)\n",
    "                y_raw = sampled.point_data[target_name]\n",
    "            except Exception:\n",
    "                return None, ('sample_fail', os.path.basename(path_str))\n",
    "        elif source_loc == 'cell':\n",
    "            return None, ('cell2point_fail', os.path.basename(path_str))\n",
    "        else:\n",
    "            return None, ('global_field', os.path.basename(path_str), target_name)\n",
    "\n",
    "    pts = surf_all.points.astype(np.float32)\n",
    "\n",
    "\n",
    "    # 특징 x\n",
    "    feats = [pts]  # (N,3)\n",
    "    if options[\"USE_NORMALS\"] or options[\"DO_COMPUTE_NORMALS\"]:\n",
    "        if 'Normals' not in surf_all.point_data:\n",
    "            try:\n",
    "                surf_all.compute_normals(inplace=True, consistent_normals=True, auto_orient_normals=True)\n",
    "            except TypeError:\n",
    "                surf_all.compute_normals(inplace=True, auto_orient_normals=True)\n",
    "        if 'Normals' in surf_all.point_data:\n",
    "            nrm = surf_all.point_data['Normals']\n",
    "            if _safe_is_numeric(nrm) and not _is_bad_array(nrm):\n",
    "                feats.append(nrm.astype(np.float32))\n",
    "\n",
    "    for name, arr in surf_all.point_data.items():\n",
    "        if (not options[\"INCLUDE_TARGET_IN_X\"]) and (canonical(name) == canonical(target_name)):\n",
    "            continue\n",
    "        if not isinstance(arr, np.ndarray):\n",
    "            continue\n",
    "        if arr.dtype.type not in (np.float32, np.float64):\n",
    "            continue\n",
    "        if arr.shape[0] != surf_all.n_points:\n",
    "            continue\n",
    "        if arr.ndim not in (1, 2):\n",
    "            continue\n",
    "        if arr.ndim == 2 and arr.shape[1] > options[\"MAX_FEATURE_DIM\"]:\n",
    "            continue\n",
    "        if _is_bad_array(arr):\n",
    "            continue\n",
    "        feats.append(_maybe_reshape(arr.astype(np.float32)))\n",
    "\n",
    "    if len(feats) == 0:\n",
    "        return None, ('no_features', os.path.basename(path_str))\n",
    "\n",
    "    x = np.concatenate(feats, axis=1)\n",
    "\n",
    "    y = np.asarray(y_raw, dtype=np.float32).reshape(-1, 1)\n",
    "    if y.shape[0] != surf_all.n_points:\n",
    "        return None, ('len_mismatch', os.path.basename(path_str), y.shape[0], surf_all.n_points)\n",
    "\n",
    "    # 정규화\n",
    "    if options[\"NORMALIZE_X\"]:\n",
    "        x = _zscore_inplace(x)\n",
    "    if options[\"NORMALIZE_TARGET\"]:\n",
    "        y = _zscore_inplace(y)\n",
    "\n",
    "\n",
    "    # Graph level Y extraction (cd, cl)\n",
    "    gt_cfg = options.get(\"GRAPH_TARGET\", None)\n",
    "    graph_target = None\n",
    "\n",
    "    if gt_cfg:\n",
    "        csv_dir   = gt_cfg.get(\"CSV_DIR\", None)\n",
    "        csv_glob  = gt_cfg.get(\"CSV_GLOB\", \"*.csv\")\n",
    "        runid_rx  = gt_cfg.get(\"RUN_ID_REGEX\", [r\"run[_\\-]?(\\d+)\", r\"_(\\d+)$\", r\"(\\d+)$\"])\n",
    "        target_cols = gt_cfg.get(\"TARGET_COLS\", [\"cd\",\"cl\"])\n",
    "        agg = gt_cfg.get(\"AGG\", \"last\").lower()\n",
    "        ymode = gt_cfg.get(\"Y_MODE\", \"both\").lower()\n",
    "\n",
    "        if csv_dir and Path(csv_dir).exists():\n",
    "            if not hasattr(process_one, \"_CSV_INDEX_BUILT\"):\n",
    "                # 최초 1회 인덱스 구축 (함수 속성에 캐시)\n",
    "                process_one._CSV_INDEX, process_one._CSV_FALLBACKS = _build_csv_index(csv_dir, csv_glob, runid_rx)\n",
    "                process_one._CSV_INDEX_BUILT = True\n",
    "\n",
    "            csv_idx   = process_one._CSV_INDEX\n",
    "            csv_fbk   = process_one._CSV_FALLBACKS\n",
    "            csv_path  = _find_csv_for_mesh(path_str, csv_idx, csv_fbk, runid_rx)\n",
    "\n",
    "            if csv_path is None:\n",
    "                print(f\"[WARN] CSV not found for mesh: {path_str}\")\n",
    "            else:\n",
    "                try:\n",
    "                    df = pd.read_csv(csv_path)\n",
    "                    if df.empty:\n",
    "                        print(f\"[WARN] CSV empty: {csv_path}\")\n",
    "                    else:\n",
    "                        if agg == \"last\":\n",
    "                            row = df.iloc[-1]\n",
    "                        elif agg == \"first\":\n",
    "                            row = df.iloc[0]\n",
    "                        elif agg == \"mean\":\n",
    "                            row = df.mean(numeric_only=True)\n",
    "                        else:\n",
    "                            row = df.iloc[-1]\n",
    "\n",
    "                        vals = []\n",
    "                        for c in target_cols:\n",
    "                            # 대소문자/공백 무시 매칭\n",
    "                            # ex) 'CD ', 'cd', 'Cd' 등도 잡도록\n",
    "                            col_map = {str(k).strip().lower(): k for k in df.columns}\n",
    "                            key = col_map.get(str(c).strip().lower(), None)\n",
    "                            if key is None or (key not in row) or (not np.isfinite(row[key])):\n",
    "                                vals = None\n",
    "                                break\n",
    "                            vals.append(float(row[key]))\n",
    "                        if vals is not None:\n",
    "                            graph_target = np.asarray(vals, dtype=np.float32)\n",
    "                        else:\n",
    "                            print(f\"[WARN] target cols missing in CSV: {csv_path} -> {target_cols}\")\n",
    "                except Exception as e:\n",
    "                    print(f\"[WARN] CSV read fail: {csv_path} err={e}\")\n",
    "                    \n",
    "    # Graph level Y (cd, cl) imposition\n",
    "    Y_MODE = (gt_cfg.get(\"Y_MODE\", \"both\").lower() if gt_cfg else \"node_only\")\n",
    "\n",
    "    if Y_MODE == \"graph_only\" and (graph_target is not None):\n",
    "        # 1) y를 그래프 레벨로만 사용\n",
    "        y = graph_target  # np.float32 [T]\n",
    "        y_is_graph_level = True\n",
    "        # (선택) node-level 타겟은 완전히 생략\n",
    "\n",
    "    elif Y_MODE == \"both\" and (graph_target is not None):\n",
    "        # 2) 둘 다 유지: y_node는 기존대로, 그래프 타겟은 별도 필드로 Data에 넣음\n",
    "        y_is_graph_level = False\n",
    "        y_graph = graph_target  # np.float32 [T]\n",
    "\n",
    "    else:\n",
    "        # 3) 기본: node-only\n",
    "        y_is_graph_level = False\n",
    "        y_graph = None\n",
    "\n",
    "    # 엣지\n",
    "    faces_arr = getattr(surf_all, 'faces', None)\n",
    "    edge_index = _edge_from_faces_or_knn(pts, faces_arr, edge_mode=options[\"EDGE_MODE\"], k=options[\"KNN_K\"])\n",
    "\n",
    "    # 타이밍 로그\n",
    "    t_edge = time.time()\n",
    "    dt = {\n",
    "        \"read\":      round(t_read - t0, 4),\n",
    "        \"surface\":   round(t_surface - t_read, 4),\n",
    "        \"cell2pt\":   round(t_c2p - t_surface, 4),\n",
    "        \"features+\": round(t_edge - t_c2p, 4),\n",
    "        \"total\":     round(t_edge - t0, 4)\n",
    "    }\n",
    "    print(f\"[pid {pid}] {os.path.basename(path_str)} timings(sec): {dt}\")\n",
    "\n",
    "    data_kwargs = dict()\n",
    "    data_kwargs[\"x\"] = torch.from_numpy(x)\n",
    "    data_kwargs[\"edge_index\"] = torch.from_numpy(edge_index)\n",
    "\n",
    "    if y_is_graph_level:\n",
    "        # 그래프 레벨 타겟만 y로 사용\n",
    "        data_kwargs[\"y\"] = torch.from_numpy(graph_target)   # shape [T]\n",
    "    else:\n",
    "        # 기존 node-level y 유지\n",
    "        data_kwargs[\"y\"] = torch.from_numpy(y)\n",
    "        if y_graph is not None:\n",
    "            # 추가로 그래프 레벨 타겟을 별도 필드에 저장\n",
    "            data_kwargs[\"y_graph\"] = torch.from_numpy(y_graph)\n",
    "\n",
    "    g = GeoData(**data_kwargs)\n",
    "\n",
    "    return g, None\n",
    "\n",
    "\n",
    "\n"
   ]
  },
  {
   "cell_type": "markdown",
   "metadata": {},
   "source": [
    "# Main"
   ]
  },
  {
   "cell_type": "code",
   "execution_count": 6,
   "metadata": {},
   "outputs": [
    {
     "name": "stdout",
     "output_type": "stream",
     "text": [
      "MAX_WORKERS = 60\n",
      "DATA_ROOT   = d:\\gnn\\data\n",
      "TARGET_FIELD= static(p)_coeffMean\n",
      "EDGE_MODE   = auto\n",
      "KNN_K       = 8\n",
      "RUN_RANGE   = (1, 101)\n",
      "GRAPH_TARGET in options: {'CSV_DIR': WindowsPath('d:/gnn/data'), 'RUN_ID_REGEX': 'run[_\\\\-]?(\\\\d+)', 'CSV_GLOB': '*.csv', 'TARGET_COLS': ['cd', 'cl'], 'AGG': 'last', 'Y_MODE': 'both', 'FILENAME_MATCH': '{run_id}'}\n",
      "Found run dirs in range: 102\n",
      "Meshes found: 101\n",
      "Sample mesh files: ['d:\\\\gnn\\\\data\\\\run_1\\\\boundary_1.vtp', 'd:\\\\gnn\\\\data\\\\run_10\\\\boundary_10.vtp', 'd:\\\\gnn\\\\data\\\\run_100\\\\boundary_100.vtp', 'd:\\\\gnn\\\\data\\\\run_101\\\\boundary_101.vtp', 'd:\\\\gnn\\\\data\\\\run_11\\\\boundary_11.vtp']\n"
     ]
    },
    {
     "name": "stderr",
     "output_type": "stream",
     "text": [
      "Build graphs (proc):   0%|          | 0/101 [00:01<?, ?it/s]\n"
     ]
    },
    {
     "name": "stdout",
     "output_type": "stream",
     "text": [
      "[WARN] ProcessPoolExecutor failed: A process in the process pool was terminated abruptly while the future was running or pending.\n",
      " → Falling back to ThreadPoolExecutor\n"
     ]
    },
    {
     "name": "stderr",
     "output_type": "stream",
     "text": [
      "Build graphs (thread):   1%|          | 1/101 [00:23<38:36, 23.16s/it]"
     ]
    },
    {
     "name": "stdout",
     "output_type": "stream",
     "text": [
      "[pid 25368] boundary_55.vtp timings(sec): {'read': 2.8275, 'surface': 0.3934, 'cell2pt': 0.1172, 'features+': 17.1148, 'total': 20.4529}\n"
     ]
    },
    {
     "name": "stderr",
     "output_type": "stream",
     "text": [
      "Build graphs (thread):   3%|▎         | 3/101 [00:48<21:52, 13.40s/it]"
     ]
    },
    {
     "name": "stdout",
     "output_type": "stream",
     "text": [
      "[pid 25368] boundary_36.vtp timings(sec): {'read': 3.1003, 'surface': 0.4327, 'cell2pt': 0.1307, 'features+': 42.2417, 'total': 45.9054}\n",
      "[pid 25368] boundary_62.vtp timings(sec): {'read': 1.5567, 'surface': 0.35, 'cell2pt': 0.125, 'features+': 23.5705, 'total': 25.6023}\n"
     ]
    },
    {
     "name": "stderr",
     "output_type": "stream",
     "text": [
      "Build graphs (thread):   4%|▍         | 4/101 [01:00<20:27, 12.66s/it]"
     ]
    },
    {
     "name": "stdout",
     "output_type": "stream",
     "text": [
      "[pid 25368] boundary_20.vtp timings(sec): {'read': 3.1775, 'surface': 0.4376, 'cell2pt': 0.137, 'features+': 53.8646, 'total': 57.6166}\n"
     ]
    },
    {
     "name": "stderr",
     "output_type": "stream",
     "text": [
      "Build graphs (thread):   6%|▌         | 6/101 [01:23<17:10, 10.85s/it]"
     ]
    },
    {
     "name": "stdout",
     "output_type": "stream",
     "text": [
      "[pid 25368] boundary_10.vtp timings(sec): {'read': 3.1916, 'surface': 0.4538, 'cell2pt': 0.1218, 'features+': 76.8127, 'total': 80.5799}\n",
      "[pid 25368] boundary_48.vtp timings(sec): {'read': 3.1348, 'surface': 0.4426, 'cell2pt': 0.1266, 'features+': 76.9068, 'total': 80.6107}\n"
     ]
    },
    {
     "name": "stderr",
     "output_type": "stream",
     "text": [
      "Build graphs (thread):   7%|▋         | 7/101 [01:54<27:27, 17.53s/it]"
     ]
    },
    {
     "name": "stdout",
     "output_type": "stream",
     "text": [
      "[pid 25368] boundary_63.vtp timings(sec): {'read': 12.064, 'surface': 0.3253, 'cell2pt': 0.1161, 'features+': 53.5084, 'total': 66.0137}\n"
     ]
    },
    {
     "name": "stderr",
     "output_type": "stream",
     "text": [
      "Build graphs (thread):   8%|▊         | 8/101 [01:55<18:42, 12.07s/it]"
     ]
    },
    {
     "name": "stdout",
     "output_type": "stream",
     "text": [
      "[pid 25368] boundary_64.vtp timings(sec): {'read': 12.1254, 'surface': 11.1723, 'cell2pt': 10.889, 'features+': 32.0218, 'total': 66.2084}\n"
     ]
    },
    {
     "name": "stderr",
     "output_type": "stream",
     "text": [
      "Build graphs (thread):   9%|▉         | 9/101 [02:10<20:14, 13.20s/it]"
     ]
    },
    {
     "name": "stdout",
     "output_type": "stream",
     "text": [
      "[pid 25368] boundary_65.vtp timings(sec): {'read': 11.7838, 'surface': 11.3362, 'cell2pt': 0.1388, 'features+': 47.1502, 'total': 70.4091}\n"
     ]
    },
    {
     "name": "stderr",
     "output_type": "stream",
     "text": [
      "Build graphs (thread):  10%|▉         | 10/101 [02:41<28:22, 18.71s/it]"
     ]
    },
    {
     "name": "stdout",
     "output_type": "stream",
     "text": [
      "[pid 25368] boundary_67.vtp timings(sec): {'read': 31.2931, 'surface': 0.4082, 'cell2pt': 0.1333, 'features+': 46.6102, 'total': 78.4448}\n",
      "[pid 25368] boundary_66.vtp timings(sec): {'read': 31.3244, 'surface': 0.4582, 'cell2pt': 0.1417, 'features+': 46.7831, 'total': 78.7074}\n"
     ]
    },
    {
     "name": "stderr",
     "output_type": "stream",
     "text": [
      "Build graphs (thread):  12%|█▏        | 12/101 [03:09<26:02, 17.56s/it]"
     ]
    },
    {
     "name": "stdout",
     "output_type": "stream",
     "text": [
      "[pid 25368] boundary_68.vtp timings(sec): {'read': 16.4247, 'surface': 30.4711, 'cell2pt': 0.1665, 'features+': 28.036, 'total': 75.0983}\n",
      "[pid 25368] boundary_69.vtp timings(sec): {'read': 15.938, 'surface': 14.7564, 'cell2pt': 15.8306, 'features+': 28.3568, 'total': 74.8818}\n"
     ]
    },
    {
     "name": "stderr",
     "output_type": "stream",
     "text": [
      "Build graphs (thread):  14%|█▍        | 14/101 [03:25<18:50, 13.00s/it]"
     ]
    },
    {
     "name": "stdout",
     "output_type": "stream",
     "text": [
      "[pid 25368] boundary_7.vtp timings(sec): {'read': 30.8, 'surface': 0.4666, 'cell2pt': 0.1415, 'features+': 43.1999, 'total': 74.608}\n"
     ]
    },
    {
     "name": "stderr",
     "output_type": "stream",
     "text": [
      "Build graphs (thread):  15%|█▍        | 15/101 [03:53<23:58, 16.72s/it]"
     ]
    },
    {
     "name": "stdout",
     "output_type": "stream",
     "text": [
      "[pid 25368] boundary_70.vtp timings(sec): {'read': 27.6945, 'surface': 0.4386, 'cell2pt': 0.1591, 'features+': 43.2097, 'total': 71.5019}\n",
      "[pid 25368] boundary_71.vtp timings(sec): {'read': 27.9666, 'surface': 15.1143, 'cell2pt': 0.244, 'features+': 28.1356, 'total': 71.4605}\n"
     ]
    },
    {
     "name": "stderr",
     "output_type": "stream",
     "text": [
      "Build graphs (thread):  17%|█▋        | 17/101 [04:25<24:42, 17.65s/it]"
     ]
    },
    {
     "name": "stdout",
     "output_type": "stream",
     "text": [
      "[pid 25368] boundary_73.vtp timings(sec): {'read': 15.8084, 'surface': 15.4152, 'cell2pt': 12.1452, 'features+': 31.6727, 'total': 75.0415}\n",
      "[pid 25368] boundary_72.vtp timings(sec): {'read': 15.9583, 'surface': 27.4136, 'cell2pt': 0.1987, 'features+': 31.7042, 'total': 75.2748}\n"
     ]
    },
    {
     "name": "stderr",
     "output_type": "stream",
     "text": [
      "Build graphs (thread):  19%|█▉        | 19/101 [04:40<18:12, 13.33s/it]"
     ]
    },
    {
     "name": "stdout",
     "output_type": "stream",
     "text": [
      "[pid 25368] boundary_74.vtp timings(sec): {'read': 27.8704, 'surface': 0.4285, 'cell2pt': 0.1305, 'features+': 46.9262, 'total': 75.3556}\n",
      "[pid 25368] boundary_76.vtp timings(sec): {'read': 31.7658, 'surface': 15.225, 'cell2pt': 0.2281, 'features+': 40.3301, 'total': 87.549}\n"
     ]
    },
    {
     "name": "stderr",
     "output_type": "stream",
     "text": [
      "Build graphs (thread):  22%|██▏       | 22/101 [05:21<14:22, 10.91s/it]"
     ]
    },
    {
     "name": "stdout",
     "output_type": "stream",
     "text": [
      "[pid 25368] boundary_43.vtp timings(sec): {'read': 3.3205, 'surface': 0.4582, 'cell2pt': 0.1114, 'features+': 314.8037, 'total': 318.6938}\n",
      "[pid 25368] boundary_75.vtp timings(sec): {'read': 32.1337, 'surface': 15.053, 'cell2pt': 0.2157, 'features+': 40.6811, 'total': 88.0836}\n"
     ]
    },
    {
     "name": "stderr",
     "output_type": "stream",
     "text": [
      "Build graphs (thread):  23%|██▎       | 23/101 [05:53<21:52, 16.83s/it]"
     ]
    },
    {
     "name": "stdout",
     "output_type": "stream",
     "text": [
      "[pid 25368] boundary_78.vtp timings(sec): {'read': 15.8474, 'surface': 10.8642, 'cell2pt': 12.4335, 'features+': 49.433, 'total': 88.5781}\n",
      "[pid 25368] boundary_77.vtp timings(sec): {'read': 16.0166, 'surface': 10.8001, 'cell2pt': 12.4417, 'features+': 49.4984, 'total': 88.7568}\n"
     ]
    },
    {
     "name": "stderr",
     "output_type": "stream",
     "text": [
      "Build graphs (thread):  25%|██▍       | 25/101 [06:09<14:50, 11.72s/it]"
     ]
    },
    {
     "name": "stdout",
     "output_type": "stream",
     "text": [
      "[pid 25368] boundary_79.vtp timings(sec): {'read': 23.6542, 'surface': 16.975, 'cell2pt': 0.2441, 'features+': 47.6391, 'total': 88.5123}\n",
      "[pid 25368] boundary_81.vtp timings(sec): {'read': 32.0125, 'surface': 0.3856, 'cell2pt': 0.1168, 'features+': 62.7833, 'total': 95.2982}\n"
     ]
    },
    {
     "name": "stderr",
     "output_type": "stream",
     "text": [
      "Build graphs (thread):  27%|██▋       | 27/101 [06:57<19:27, 15.78s/it]"
     ]
    },
    {
     "name": "stdout",
     "output_type": "stream",
     "text": [
      "[pid 25368] boundary_80.vtp timings(sec): {'read': 32.075, 'surface': 0.4832, 'cell2pt': 15.1167, 'features+': 47.954, 'total': 95.6289}[pid 25368] boundary_8.vtp timings(sec): {'read': 32.2998, 'surface': 0.6084, 'cell2pt': 14.9749, 'features+': 48.1999, 'total': 96.0831}\n",
      "\n",
      "[pid 25368] boundary_82.vtp timings(sec): {'read': 43.6, 'surface': 19.7165, 'cell2pt': 0.1167, 'features+': 24.9249, 'total': 88.3581}\n",
      "[pid 25368] boundary_84.vtp timings(sec): {'read': 47.4299, 'surface': 0.4831, 'cell2pt': 0.1144, 'features+': 25.0992, 'total': 73.1266}\n"
     ]
    },
    {
     "name": "stderr",
     "output_type": "stream",
     "text": [
      "Build graphs (thread):  31%|███       | 31/101 [07:36<12:25, 10.65s/it]"
     ]
    },
    {
     "name": "stdout",
     "output_type": "stream",
     "text": [
      "[pid 25368] boundary_83.vtp timings(sec): {'read': 62.6897, 'surface': 0.6, 'cell2pt': 0.1446, 'features+': 39.3299, 'total': 102.7643}\n"
     ]
    },
    {
     "name": "stderr",
     "output_type": "stream",
     "text": [
      "Build graphs (thread):  32%|███▏      | 32/101 [07:53<13:53, 12.08s/it]"
     ]
    },
    {
     "name": "stdout",
     "output_type": "stream",
     "text": [
      "[pid 25368] boundary_86.vtp timings(sec): {'read': 24.6835, 'surface': 14.4726, 'cell2pt': 0.2189, 'features+': 17.1343, 'total': 56.5093}\n"
     ]
    },
    {
     "name": "stderr",
     "output_type": "stream",
     "text": [
      "Build graphs (thread):  33%|███▎      | 33/101 [08:08<14:17, 12.61s/it]"
     ]
    },
    {
     "name": "stdout",
     "output_type": "stream",
     "text": [
      "[pid 25368] boundary_85.vtp timings(sec): {'read': 39.6553, 'surface': 0.3626, 'cell2pt': 0.1343, 'features+': 31.1833, 'total': 71.3355}\n"
     ]
    },
    {
     "name": "stderr",
     "output_type": "stream",
     "text": [
      "Build graphs (thread):  34%|███▎      | 34/101 [08:26<15:36, 13.98s/it]"
     ]
    },
    {
     "name": "stdout",
     "output_type": "stream",
     "text": [
      "[pid 25368] boundary_87.vtp timings(sec): {'read': 39.1568, 'surface': 0.4846, 'cell2pt': 0.1442, 'features+': 49.0157, 'total': 88.8014}\n"
     ]
    },
    {
     "name": "stderr",
     "output_type": "stream",
     "text": [
      "Build graphs (thread):  35%|███▍      | 35/101 [08:38<14:55, 13.57s/it]"
     ]
    },
    {
     "name": "stdout",
     "output_type": "stream",
     "text": [
      "[pid 25368] boundary_89.vtp timings(sec): {'read': 31.4553, 'surface': 0.349, 'cell2pt': 17.5665, 'features+': 12.726, 'total': 62.0968}\n"
     ]
    },
    {
     "name": "stderr",
     "output_type": "stream",
     "text": [
      "Build graphs (thread):  36%|███▌      | 36/101 [09:11<20:35, 19.01s/it]"
     ]
    },
    {
     "name": "stdout",
     "output_type": "stream",
     "text": [
      "[pid 25368] boundary_9.vtp timings(sec): {'read': 31.1787, 'surface': 17.9293, 'cell2pt': 0.2812, 'features+': 45.7437, 'total': 95.1329}\n",
      "[pid 25368] boundary_88.vtp timings(sec): {'read': 45.4381, 'surface': 17.9219, 'cell2pt': 0.2594, 'features+': 45.7582, 'total': 109.3777}\n"
     ]
    },
    {
     "name": "stderr",
     "output_type": "stream",
     "text": [
      "Build graphs (thread):  38%|███▊      | 38/101 [09:25<14:23, 13.71s/it]"
     ]
    },
    {
     "name": "stdout",
     "output_type": "stream",
     "text": [
      "[pid 25368] boundary_90.vtp timings(sec): {'read': 31.9897, 'surface': 0.3833, 'cell2pt': 0.1247, 'features+': 59.4169, 'total': 91.9146}\n"
     ]
    },
    {
     "name": "stderr",
     "output_type": "stream",
     "text": [
      "Build graphs (thread):  39%|███▊      | 39/101 [09:54<17:55, 17.35s/it]"
     ]
    },
    {
     "name": "stdout",
     "output_type": "stream",
     "text": [
      "[pid 25368] boundary_91.vtp timings(sec): {'read': 18.4002, 'surface': 11.7832, 'cell2pt': 0.2142, 'features+': 76.1354, 'total': 106.5331}\n"
     ]
    },
    {
     "name": "stderr",
     "output_type": "stream",
     "text": [
      "Build graphs (thread):  41%|████      | 41/101 [10:18<13:53, 13.89s/it]"
     ]
    },
    {
     "name": "stdout",
     "output_type": "stream",
     "text": [
      "[pid 25368] boundary_32.vtp timings(sec): {'read': 3.5663, 'surface': 0.4195, 'cell2pt': 0.1163, 'features+': 601.6773, 'total': 605.7793}\n",
      "[pid 25368] boundary_92.vtp timings(sec): {'read': 45.2644, 'surface': 0.4259, 'cell2pt': 0.118, 'features+': 66.2831, 'total': 112.0913}\n",
      "[pid 25368] boundary_93.vtp timings(sec): {'read': 33.2821, 'surface': 0.3304, 'cell2pt': 13.3446, 'features+': 52.8405, 'total': 99.7975}\n"
     ]
    },
    {
     "name": "stderr",
     "output_type": "stream",
     "text": [
      "Build graphs (thread):  42%|████▏     | 42/101 [10:18<09:56, 10.11s/it]"
     ]
    },
    {
     "name": "stdout",
     "output_type": "stream",
     "text": [
      "[pid 25368] boundary_95.vtp timings(sec): {'read': 30.8593, 'surface': 0.3503, 'cell2pt': 11.5498, 'features+': 36.45, 'total': 79.2094}\n"
     ]
    },
    {
     "name": "stderr",
     "output_type": "stream",
     "text": [
      "Build graphs (thread):  43%|████▎     | 43/101 [10:31<10:28, 10.84s/it]"
     ]
    },
    {
     "name": "stdout",
     "output_type": "stream",
     "text": [
      "[pid 25368] boundary_94.vtp timings(sec): {'read': 30.9114, 'surface': 11.8886, 'cell2pt': 13.6083, 'features+': 55.2665, 'total': 111.6748}\n"
     ]
    },
    {
     "name": "stderr",
     "output_type": "stream",
     "text": [
      "Build graphs (thread):  46%|████▌     | 46/101 [11:15<10:01, 10.94s/it]"
     ]
    },
    {
     "name": "stdout",
     "output_type": "stream",
     "text": [
      "[pid 25368] boundary_96.vtp timings(sec): {'read': 28.8597, 'surface': 13.7167, 'cell2pt': 9.65, 'features+': 56.9351, 'total': 109.1614}\n",
      "[pid 25368] boundary_5.vtp timings(sec): {'read': 3.5774, 'surface': 0.451, 'cell2pt': 0.1182, 'features+': 668.3878, 'total': 672.5344}\n"
     ]
    },
    {
     "name": "stderr",
     "output_type": "stream",
     "text": [
      "Build graphs (thread):  47%|████▋     | 47/101 [11:31<11:20, 12.60s/it]"
     ]
    },
    {
     "name": "stdout",
     "output_type": "stream",
     "text": [
      "[pid 25368] boundary_97.vtp timings(sec): {'read': 23.9758, 'surface': 11.9326, 'cell2pt': 0.3433, 'features+': 60.698, 'total': 96.9498}\n"
     ]
    },
    {
     "name": "stderr",
     "output_type": "stream",
     "text": [
      "Build graphs (thread):  48%|████▊     | 48/101 [12:02<15:45, 17.84s/it]"
     ]
    },
    {
     "name": "stdout",
     "output_type": "stream",
     "text": [
      "[pid 25368] boundary_99.vtp timings(sec): {'read': 44.8345, 'surface': 0.4084, 'cell2pt': 11.502, 'features+': 46.9477, 'total': 103.6926}[pid 25368] boundary_98.vtp timings(sec): {'read': 45.0334, 'surface': 0.4419, 'cell2pt': 11.4998, 'features+': 46.9349, 'total': 103.9099}\n",
      "\n"
     ]
    },
    {
     "name": "stderr",
     "output_type": "stream",
     "text": [
      "Build graphs (thread):  50%|████▉     | 50/101 [12:18<11:25, 13.44s/it]"
     ]
    },
    {
     "name": "stdout",
     "output_type": "stream",
     "text": [
      "[pid 25368] boundary_30.vtp timings(sec): {'read': 3.8073, 'surface': 0.4417, 'cell2pt': 0.1256, 'features+': 731.4639, 'total': 735.8386}\n"
     ]
    },
    {
     "name": "stderr",
     "output_type": "stream",
     "text": [
      "Build graphs (thread):  50%|█████     | 51/101 [12:31<11:03, 13.27s/it]"
     ]
    },
    {
     "name": "stdout",
     "output_type": "stream",
     "text": [
      "[pid 25368] boundary_35.vtp timings(sec): {'read': 3.9481, 'surface': 0.4897, 'cell2pt': 0.1427, 'features+': 744.0191, 'total': 748.5997}\n"
     ]
    },
    {
     "name": "stderr",
     "output_type": "stream",
     "text": [
      "Build graphs (thread):  51%|█████▏    | 52/101 [12:46<11:16, 13.82s/it]"
     ]
    },
    {
     "name": "stdout",
     "output_type": "stream",
     "text": [
      "[pid 25368] boundary_22.vtp timings(sec): {'read': 3.971, 'surface': 0.4523, 'cell2pt': 0.1434, 'features+': 759.4081, 'total': 763.9749}\n"
     ]
    },
    {
     "name": "stderr",
     "output_type": "stream",
     "text": [
      "Build graphs (thread):  52%|█████▏    | 53/101 [12:59<10:51, 13.57s/it]"
     ]
    },
    {
     "name": "stdout",
     "output_type": "stream",
     "text": [
      "[pid 25368] boundary_40.vtp timings(sec): {'read': 3.9683, 'surface': 0.467, 'cell2pt': 0.1188, 'features+': 772.3047, 'total': 776.8588}\n"
     ]
    },
    {
     "name": "stderr",
     "output_type": "stream",
     "text": [
      "Build graphs (thread):  53%|█████▎    | 54/101 [13:12<10:27, 13.35s/it]"
     ]
    },
    {
     "name": "stdout",
     "output_type": "stream",
     "text": [
      "[pid 25368] boundary_18.vtp timings(sec): {'read': 3.9571, 'surface': 0.4846, 'cell2pt': 0.1344, 'features+': 785.0773, 'total': 789.6535}\n"
     ]
    },
    {
     "name": "stderr",
     "output_type": "stream",
     "text": [
      "Build graphs (thread):  54%|█████▍    | 55/101 [13:25<10:08, 13.24s/it]"
     ]
    },
    {
     "name": "stdout",
     "output_type": "stream",
     "text": [
      "[pid 25368] boundary_13.vtp timings(sec): {'read': 4.0763, 'surface': 0.4593, 'cell2pt': 0.1499, 'features+': 797.9368, 'total': 802.6222}\n"
     ]
    },
    {
     "name": "stderr",
     "output_type": "stream",
     "text": [
      "Build graphs (thread):  55%|█████▌    | 56/101 [13:39<10:04, 13.43s/it]"
     ]
    },
    {
     "name": "stdout",
     "output_type": "stream",
     "text": [
      "[pid 25368] boundary_47.vtp timings(sec): {'read': 4.1136, 'surface': 0.5157, 'cell2pt': 0.1507, 'features+': 811.7146, 'total': 816.4947}\n"
     ]
    },
    {
     "name": "stderr",
     "output_type": "stream",
     "text": [
      "Build graphs (thread):  56%|█████▋    | 57/101 [13:54<10:08, 13.83s/it]"
     ]
    },
    {
     "name": "stdout",
     "output_type": "stream",
     "text": [
      "[pid 25368] boundary_49.vtp timings(sec): {'read': 4.1533, 'surface': 0.5247, 'cell2pt': 0.1575, 'features+': 826.4741, 'total': 831.3096}\n"
     ]
    },
    {
     "name": "stderr",
     "output_type": "stream",
     "text": [
      "Build graphs (thread):  57%|█████▋    | 58/101 [14:09<10:13, 14.27s/it]"
     ]
    },
    {
     "name": "stdout",
     "output_type": "stream",
     "text": [
      "[pid 25368] boundary_19.vtp timings(sec): {'read': 4.209, 'surface': 0.5083, 'cell2pt': 0.168, 'features+': 841.762, 'total': 846.6473}\n"
     ]
    },
    {
     "name": "stderr",
     "output_type": "stream",
     "text": [
      "Build graphs (thread):  58%|█████▊    | 59/101 [14:24<10:04, 14.39s/it]"
     ]
    },
    {
     "name": "stdout",
     "output_type": "stream",
     "text": [
      "[pid 25368] boundary_27.vtp timings(sec): {'read': 4.3097, 'surface': 0.5629, 'cell2pt': 0.1719, 'features+': 856.2622, 'total': 861.3068}\n"
     ]
    },
    {
     "name": "stderr",
     "output_type": "stream",
     "text": [
      "Build graphs (thread):  59%|█████▉    | 60/101 [14:37<09:37, 14.08s/it]"
     ]
    },
    {
     "name": "stdout",
     "output_type": "stream",
     "text": [
      "[pid 25368] boundary_24.vtp timings(sec): {'read': 4.1653, 'surface': 0.552, 'cell2pt': 0.172, 'features+': 869.7483, 'total': 874.6376}\n"
     ]
    },
    {
     "name": "stderr",
     "output_type": "stream",
     "text": [
      "Build graphs (thread):  60%|██████    | 61/101 [14:52<09:35, 14.40s/it]"
     ]
    },
    {
     "name": "stdout",
     "output_type": "stream",
     "text": [
      "[pid 25368] boundary_33.vtp timings(sec): {'read': 4.3068, 'surface': 0.5914, 'cell2pt': 0.1584, 'features+': 884.7304, 'total': 889.787}\n"
     ]
    },
    {
     "name": "stderr",
     "output_type": "stream",
     "text": [
      "Build graphs (thread):  61%|██████▏   | 62/101 [15:08<09:37, 14.80s/it]"
     ]
    },
    {
     "name": "stdout",
     "output_type": "stream",
     "text": [
      "[pid 25368] boundary_46.vtp timings(sec): {'read': 4.5706, 'surface': 0.5387, 'cell2pt': 0.1833, 'features+': 900.2595, 'total': 905.5521}\n"
     ]
    },
    {
     "name": "stderr",
     "output_type": "stream",
     "text": [
      "Build graphs (thread):  62%|██████▏   | 63/101 [15:38<12:12, 19.28s/it]"
     ]
    },
    {
     "name": "stdout",
     "output_type": "stream",
     "text": [
      "[pid 25368] boundary_45.vtp timings(sec): {'read': 4.3701, 'surface': 0.5939, 'cell2pt': 0.1833, 'features+': 930.1803, 'total': 935.3277}\n"
     ]
    },
    {
     "name": "stderr",
     "output_type": "stream",
     "text": [
      "Build graphs (thread):  63%|██████▎   | 64/101 [16:05<13:28, 21.84s/it]"
     ]
    },
    {
     "name": "stdout",
     "output_type": "stream",
     "text": [
      "[pid 25368] boundary_42.vtp timings(sec): {'read': 4.6228, 'surface': 0.5753, 'cell2pt': 0.1836, 'features+': 957.7515, 'total': 963.1332}\n",
      "[pid 25368] boundary_6.vtp timings(sec): {'read': 4.5541, 'surface': 0.5412, 'cell2pt': 0.1662, 'features+': 958.0552, 'total': 963.3167}\n",
      "[pid 25368] boundary_21.vtp timings(sec): {'read': 4.75, 'surface': 0.6225, 'cell2pt': 0.1883, 'features+': 957.9568, 'total': 963.5176}\n"
     ]
    },
    {
     "name": "stderr",
     "output_type": "stream",
     "text": [
      "Build graphs (thread):  66%|██████▋   | 67/101 [16:22<06:10, 10.90s/it]"
     ]
    },
    {
     "name": "stdout",
     "output_type": "stream",
     "text": [
      "[pid 25368] boundary_41.vtp timings(sec): {'read': 4.5291, 'surface': 0.6166, 'cell2pt': 0.1841, 'features+': 973.9867, 'total': 979.3165}\n"
     ]
    },
    {
     "name": "stderr",
     "output_type": "stream",
     "text": [
      "Build graphs (thread):  67%|██████▋   | 68/101 [16:51<09:05, 16.53s/it]"
     ]
    },
    {
     "name": "stdout",
     "output_type": "stream",
     "text": [
      "[pid 25368] boundary_53.vtp timings(sec): {'read': 4.4666, 'surface': 0.5117, 'cell2pt': 0.1787, 'features+': 1003.6929, 'total': 1008.8499}\n",
      "[pid 25368] boundary_11.vtp timings(sec): {'read': 4.5762, 'surface': 0.6912, 'cell2pt': 0.178, 'features+': 1003.5932, 'total': 1009.0386}\n",
      "[pid 25368] boundary_28.vtp timings(sec): {'read': 4.5927, 'surface': 0.6503, 'cell2pt': 0.1831, 'features+': 1049.3301, 'total': 1054.7562}\n",
      "[pid 25368] boundary_61.vtp timings(sec): {'read': 4.5541, 'surface': 0.7741, 'cell2pt': 0.178, 'features+': 1049.5901, 'total': 1055.0962}\n"
     ]
    },
    {
     "name": "stderr",
     "output_type": "stream",
     "text": [
      "Build graphs (thread):  70%|███████   | 71/101 [17:37<07:21, 14.73s/it]"
     ]
    },
    {
     "name": "stdout",
     "output_type": "stream",
     "text": [
      "[pid 25368] boundary_14.vtp timings(sec): {'read': 4.6642, 'surface': 0.6194, 'cell2pt': 0.1822, 'features+': 1049.6986, 'total': 1055.1643}\n",
      "[pid 25368] boundary_29.vtp timings(sec): {'read': 4.6263, 'surface': 0.6407, 'cell2pt': 0.1822, 'features+': 1079.3525, 'total': 1084.8016}\n"
     ]
    },
    {
     "name": "stderr",
     "output_type": "stream",
     "text": [
      "Build graphs (thread):  72%|███████▏  | 73/101 [18:07<06:54, 14.82s/it]"
     ]
    },
    {
     "name": "stdout",
     "output_type": "stream",
     "text": [
      "[pid 25368] boundary_57.vtp timings(sec): {'read': 4.3589, 'surface': 0.6194, 'cell2pt': 0.1851, 'features+': 1079.8696, 'total': 1085.033}\n"
     ]
    },
    {
     "name": "stderr",
     "output_type": "stream",
     "text": [
      "Build graphs (thread):  74%|███████▍  | 75/101 [18:39<06:36, 15.24s/it]"
     ]
    },
    {
     "name": "stdout",
     "output_type": "stream",
     "text": [
      "[pid 25368] boundary_26.vtp timings(sec): {'read': 4.762, 'surface': 0.7193, 'cell2pt': 0.1735, 'features+': 1111.2496, 'total': 1116.9045}\n",
      "[pid 25368] boundary_1.vtp timings(sec): {'read': 4.8999, 'surface': 0.6872, 'cell2pt': 0.1676, 'features+': 1111.3594, 'total': 1117.1141}\n"
     ]
    },
    {
     "name": "stderr",
     "output_type": "stream",
     "text": [
      "Build graphs (thread):  76%|███████▌  | 77/101 [19:21<07:35, 18.99s/it]"
     ]
    },
    {
     "name": "stdout",
     "output_type": "stream",
     "text": [
      "[pid 25368] boundary_31.vtp timings(sec): {'read': 4.6213, 'surface': 0.7317, 'cell2pt': 0.1964, 'features+': 1153.599, 'total': 1159.1484}\n",
      "[pid 25368] boundary_3.vtp timings(sec): {'read': 4.4565, 'surface': 0.6516, 'cell2pt': 0.1589, 'features+': 1154.0559, 'total': 1159.3229}\n"
     ]
    },
    {
     "name": "stderr",
     "output_type": "stream",
     "text": [
      "Build graphs (thread):  78%|███████▊  | 79/101 [19:40<05:37, 15.32s/it]"
     ]
    },
    {
     "name": "stdout",
     "output_type": "stream",
     "text": [
      "[pid 25368] boundary_16.vtp timings(sec): {'read': 4.9266, 'surface': 0.6508, 'cell2pt': 0.14, 'features+': 1153.7971, 'total': 1159.5144}\n"
     ]
    },
    {
     "name": "stderr",
     "output_type": "stream",
     "text": [
      "Build graphs (thread):  79%|███████▉  | 80/101 [19:40<03:56, 11.24s/it]"
     ]
    },
    {
     "name": "stdout",
     "output_type": "stream",
     "text": [
      "[pid 25368] boundary_34.vtp timings(sec): {'read': 4.8067, 'surface': 0.6863, 'cell2pt': 0.1735, 'features+': 1172.138, 'total': 1177.8046}\n",
      "[pid 25368] boundary_56.vtp timings(sec): {'read': 4.6139, 'surface': 0.5921, 'cell2pt': 0.1757, 'features+': 1203.6794, 'total': 1209.0611}\n",
      "[pid 25368] boundary_100.vtp timings(sec): {'read': 4.9486, 'surface': 0.6078, 'cell2pt': 0.1609, 'features+': 1203.5575, 'total': 1209.2749}\n"
     ]
    },
    {
     "name": "stderr",
     "output_type": "stream",
     "text": [
      "Build graphs (thread):  82%|████████▏ | 83/101 [20:44<04:58, 16.59s/it]"
     ]
    },
    {
     "name": "stdout",
     "output_type": "stream",
     "text": [
      "[pid 25368] boundary_52.vtp timings(sec): {'read': 5.3348, 'surface': 0.5619, 'cell2pt': 0.1586, 'features+': 1235.5786, 'total': 1241.634}\n",
      "[pid 25368] boundary_23.vtp timings(sec): {'read': 5.2636, 'surface': 0.577, 'cell2pt': 0.1687, 'features+': 1235.6819, 'total': 1241.6913}\n"
     ]
    },
    {
     "name": "stderr",
     "output_type": "stream",
     "text": [
      "Build graphs (thread):  84%|████████▍ | 85/101 [21:32<05:12, 19.53s/it]"
     ]
    },
    {
     "name": "stdout",
     "output_type": "stream",
     "text": [
      "[pid 25368] boundary_101.vtp timings(sec): {'read': 5.1646, 'surface': 0.6988, 'cell2pt': 0.1874, 'features+': 1267.7413, 'total': 1273.7921}\n",
      "[pid 25368] boundary_51.vtp timings(sec): {'read': 5.1615, 'surface': 0.5867, 'cell2pt': 0.167, 'features+': 1284.16, 'total': 1290.0752}\n"
     ]
    },
    {
     "name": "stderr",
     "output_type": "stream",
     "text": [
      "Build graphs (thread):  86%|████████▌ | 87/101 [21:32<02:56, 12.61s/it]"
     ]
    },
    {
     "name": "stdout",
     "output_type": "stream",
     "text": [
      "[pid 25368] boundary_39.vtp timings(sec): {'read': 4.7279, 'surface': 0.6382, 'cell2pt': 0.2119, 'features+': 1284.6807, 'total': 1290.2587}\n"
     ]
    },
    {
     "name": "stderr",
     "output_type": "stream",
     "text": [
      "Build graphs (thread):  87%|████████▋ | 88/101 [22:08<03:43, 17.17s/it]"
     ]
    },
    {
     "name": "stdout",
     "output_type": "stream",
     "text": [
      "[pid 25368] boundary_2.vtp timings(sec): {'read': 5.4657, 'surface': 0.582, 'cell2pt': 0.1857, 'features+': 1319.1198, 'total': 1325.3533}\n",
      "[pid 25368] boundary_15.vtp timings(sec): {'read': 4.9168, 'surface': 0.7537, 'cell2pt': 0.2085, 'features+': 1319.4993, 'total': 1325.3783}\n"
     ]
    },
    {
     "name": "stderr",
     "output_type": "stream",
     "text": [
      "Build graphs (thread):  90%|█████████ | 91/101 [22:58<02:50, 17.05s/it]"
     ]
    },
    {
     "name": "stdout",
     "output_type": "stream",
     "text": [
      "[pid 25368] boundary_58.vtp timings(sec): {'read': 5.15, 'surface': 0.6498, 'cell2pt': 0.1718, 'features+': 1353.0778, 'total': 1359.0494}\n",
      "[pid 25368] boundary_12.vtp timings(sec): {'read': 5.5126, 'surface': 0.6552, 'cell2pt': 0.1478, 'features+': 1352.9649, 'total': 1359.2806}\n"
     ]
    },
    {
     "name": "stderr",
     "output_type": "stream",
     "text": [
      "Build graphs (thread):  91%|█████████ | 92/101 [23:33<03:10, 21.14s/it]"
     ]
    },
    {
     "name": "stdout",
     "output_type": "stream",
     "text": [
      "[pid 25368] boundary_4.vtp timings(sec): {'read': 4.9978, 'surface': 0.8207, 'cell2pt': 0.1687, 'features+': 1405.0051, 'total': 1410.9924}\n",
      "[pid 25368] boundary_44.vtp timings(sec): {'read': 5.3817, 'surface': 0.6055, 'cell2pt': 0.1747, 'features+': 1405.0212, 'total': 1411.1832}\n"
     ]
    },
    {
     "name": "stderr",
     "output_type": "stream",
     "text": [
      "Build graphs (thread):  93%|█████████▎| 94/101 [24:28<03:02, 26.05s/it]"
     ]
    },
    {
     "name": "stdout",
     "output_type": "stream",
     "text": [
      "[pid 25368] boundary_60.vtp timings(sec): {'read': 5.4436, 'surface': 0.733, 'cell2pt': 0.1712, 'features+': 1405.2438, 'total': 1411.5916}\n"
     ]
    },
    {
     "name": "stderr",
     "output_type": "stream",
     "text": [
      "Build graphs (thread):  94%|█████████▍| 95/101 [24:47<02:24, 24.06s/it]"
     ]
    },
    {
     "name": "stdout",
     "output_type": "stream",
     "text": [
      "[pid 25368] boundary_37.vtp timings(sec): {'read': 5.4451, 'surface': 0.6863, 'cell2pt': 0.148, 'features+': 1478.311, 'total': 1484.5904}[pid 25368] boundary_17.vtp timings(sec): {'read': 5.0355, 'surface': 0.7551, 'cell2pt': 0.2031, 'features+': 1478.607, 'total': 1484.6007}\n",
      "[pid 25368] boundary_50.vtp timings(sec): {'read': 5.2615, 'surface': 0.7258, 'cell2pt': 0.1976, 'features+': 1478.3816, 'total': 1484.5664}\n",
      "\n",
      "[pid 25368] boundary_25.vtp timings(sec): {'read': 5.497, 'surface': 0.6068, 'cell2pt': 0.167, 'features+': 1478.5845, 'total': 1484.8552}\n"
     ]
    },
    {
     "name": "stderr",
     "output_type": "stream",
     "text": [
      "Build graphs (thread):  98%|█████████▊| 99/101 [25:47<00:42, 21.13s/it]"
     ]
    },
    {
     "name": "stdout",
     "output_type": "stream",
     "text": [
      "[pid 25368] boundary_59.vtp timings(sec): {'read': 5.4593, 'surface': 0.6845, 'cell2pt': 0.1811, 'features+': 1538.408, 'total': 1544.7328}\n",
      "[pid 25368] boundary_38.vtp timings(sec): {'read': 5.3333, 'surface': 0.7892, 'cell2pt': 0.1716, 'features+': 1538.6568, 'total': 1544.9508}\n"
     ]
    },
    {
     "name": "stderr",
     "output_type": "stream",
     "text": [
      "Build graphs (thread): 100%|██████████| 101/101 [25:47<00:00, 15.33s/it]"
     ]
    },
    {
     "name": "stdout",
     "output_type": "stream",
     "text": [
      "[pid 25368] boundary_54.vtp timings(sec): {'read': 5.4248, 'surface': 0.7153, 'cell2pt': 0.1847, 'features+': 1538.8579, 'total': 1545.1827}\n",
      "Graph build elapsed: 1550.08s\n",
      "Graphs built: 101\n",
      "Skipped (missing/invalid target): 0\n",
      "Skipped (empty meshes): 0\n",
      "Train: 81 Val: 20\n",
      "Feature dim: 8\n"
     ]
    },
    {
     "name": "stderr",
     "output_type": "stream",
     "text": [
      "\n"
     ]
    },
    {
     "name": "stdout",
     "output_type": "stream",
     "text": [
      "[CACHE] saved ✓\n",
      "Done. You now have train_graphs / val_graphs in memory.\n"
     ]
    }
   ],
   "source": [
    "def main():\n",
    "    # Define options directly within the function or pass them as arguments\n",
    "    # For simplicity, using hardcoded defaults or values from the top-level constants\n",
    "    DATA_ROOT = Path(\"d:\\gnn\\data\") # Use the downloaded data path\n",
    "    TARGET_FIELD = \"static(p)_coeffMean\"\n",
    "    run_range = RUN_RANGE\n",
    "    strict_boundary_only = STRICT_BOUNDARY_ONLY\n",
    "    use_cache = CACHE_ENABLE\n",
    "    max_workers = 60 # Or set to a reasonable default or user-defined value\n",
    "    force_threadpool = False # Set to True if you want to force threadpool\n",
    "\n",
    "    options = dict(\n",
    "        DO_CELL_TO_POINT=DO_CELL_TO_POINT,\n",
    "        USE_NORMALS=USE_NORMALS,\n",
    "        DO_COMPUTE_NORMALS=DO_COMPUTE_NORMALS,\n",
    "        INCLUDE_TARGET_IN_X=INCLUDE_TARGET_IN_X,\n",
    "        NORMALIZE_X=NORMALIZE_X,\n",
    "        NORMALIZE_TARGET=NORMALIZE_TARGET,\n",
    "        MAX_FEATURE_DIM=MAX_FEATURE_DIM,\n",
    "        EDGE_MODE=EDGE_MODE,\n",
    "        KNN_K=KNN_K,\n",
    "        TARGET_FIELD=TARGET_FIELD,\n",
    "        AUTO_GUESS_TARGET=AUTO_GUESS_TARGET,\n",
    "    )\n",
    "\n",
    "    options.update({\n",
    "    # 그래프 레벨 타겟 설정\n",
    "    \"GRAPH_TARGET\": {                           # 없으면 건너뜀\n",
    "        \"CSV_DIR\": DATA_ROOT,                   # 각 run마다 1개 CSV가 있는 폴더\n",
    "        \"RUN_ID_REGEX\": r\"run[_\\-]?(\\d+)\",      # 파일명에서 run_id 추출\n",
    "        \"CSV_GLOB\": \"*.csv\",                    # CSV 패턴\n",
    "        \"TARGET_COLS\": [\"cd\", \"cl\"],                  # [\"CD\"] 또는 [\"CD\",\"CL\"]\n",
    "        \"AGG\": \"last\",                          # CSV가 여러 행이면: \"last\"|\"mean\"|\"first\"\n",
    "        \"Y_MODE\": \"both\",                       # \"both\" | \"graph_only\" | \"node_only\"\n",
    "        \"FILENAME_MATCH\": \"{run_id}\",           # (선택) CSV파일명이 run_id를 포함한다고 가정\n",
    "    }\n",
    "    })\n",
    "\n",
    "\n",
    "    print(\"MAX_WORKERS =\", max_workers)\n",
    "    print(\"DATA_ROOT   =\", DATA_ROOT)\n",
    "    print(\"TARGET_FIELD=\", TARGET_FIELD)\n",
    "    print(\"EDGE_MODE   =\", options['EDGE_MODE'])\n",
    "    print(\"KNN_K       =\", options['KNN_K'])\n",
    "    print(\"RUN_RANGE   =\", run_range)\n",
    "    print(\"GRAPH_TARGET in options:\", options.get(\"GRAPH_TARGET\", None))\n",
    "\n",
    "\n",
    "    # 1) run_* 디렉토리 스캔\n",
    "    run_dirs = sorted([p for p in DATA_ROOT.glob('run_*') if p.is_dir()])\n",
    "    if run_range is not None:\n",
    "        run_dirs = _filter_run_dirs(run_dirs, run_range)\n",
    "\n",
    "    print('Found run dirs in range:', len(run_dirs))\n",
    "    if not run_dirs:\n",
    "        print('DEBUG: No run_* directories in range under', DATA_ROOT.resolve())\n",
    "\n",
    "    # 2) boundary_*.vtp 우선 수집\n",
    "    mesh_files = []\n",
    "    for rd in run_dirs:\n",
    "        vtp_matches = sorted(rd.glob('boundary_*.vtp'))\n",
    "        if vtp_matches:\n",
    "            mesh_files.append(vtp_matches[0])\n",
    "        elif not strict_boundary_only:\n",
    "            alt = list(rd.glob('*.vtp'))\n",
    "            if alt:\n",
    "                mesh_files.append(alt[0])\n",
    "\n",
    "    print('Meshes found:', len(mesh_files))\n",
    "    if mesh_files[:5]:\n",
    "        print('Sample mesh files:', [str(p) for p in mesh_files[:5]])\n",
    "    if not mesh_files:\n",
    "        print('DEBUG: No boundary_*.vtp files located. Check path / working directory.')\n",
    "\n",
    "    # 3) 캐시 체크\n",
    "    train_graphs, val_graphs = [], []\n",
    "    cache_hit = False\n",
    "    if use_cache and CACHE_META.exists() and CACHE_PATH.exists():\n",
    "        with open(CACHE_META, \"r\", encoding=\"utf-8\") as f:\n",
    "            meta = safe_json_load(CACHE_META)\n",
    "            if meta is None:\n",
    "                print(\"[CACHE] meta corrupt/empty → rebuilding cache.\")\n",
    "                cache_hit = False\n",
    "            else:\n",
    "                cur_hash, cur_payload = _fingerprint(mesh_files, options)\n",
    "                if meta.get(\"hash\") == cur_hash:\n",
    "                    try:\n",
    "                        train_graphs, val_graphs = torch.load(CACHE_PATH)\n",
    "                        cache_hit = True\n",
    "                        print(\"[CACHE] hit ✓ → graphs loaded from cache.\")\n",
    "                    except Exception as e:\n",
    "                        print(\"[CACHE] load failed:\", e)\n",
    "                        cache_hit = False\n",
    "                else:\n",
    "                    cache_hit = False\n",
    "\n",
    "        cur_hash, cur_payload = _fingerprint(mesh_files, options)\n",
    "        if meta.get(\"hash\") == cur_hash:\n",
    "            try:\n",
    "                train_graphs, val_graphs = torch.load(CACHE_PATH)\n",
    "                cache_hit = True\n",
    "                print(\"[CACHE] hit ✓ → graphs loaded from cache.\")\n",
    "            except Exception as e:\n",
    "                print(\"[CACHE] load failed:\", e)\n",
    "\n",
    "    if not cache_hit:\n",
    "        # 4) 병렬 실행\n",
    "        all_graphs = []\n",
    "        skipped_missing_target, skipped_empty = [], []\n",
    "        scan_reports = []\n",
    "        errors_to_print = 3\n",
    "\n",
    "        t0 = time.time()\n",
    "        futures = {}\n",
    "        if force_threadpool:\n",
    "            print(\"[INFO] Force ThreadPoolExecutor\")\n",
    "            executor_ctx = ThreadPoolExecutor(max_workers=max_workers)\n",
    "        else:\n",
    "            executor_ctx = ProcessPoolExecutor(max_workers=max_workers)\n",
    "\n",
    "        try:\n",
    "            with executor_ctx as ex:\n",
    "                for p in mesh_files:\n",
    "                    futures[ex.submit(process_one, str(p), options)] = p\n",
    "                for fut in tqdm(as_completed(futures), total=len(futures), desc=('Build graphs (thread)' if force_threadpool else 'Build graphs (proc)')):\n",
    "                    g, info = fut.result()\n",
    "                    if g is not None:\n",
    "                        all_graphs.append(g)\n",
    "                    else:\n",
    "                        kind = info[0]\n",
    "                        if kind in ('empty',):\n",
    "                            skipped_empty.append(futures[fut])\n",
    "                        else:\n",
    "                            skipped_missing_target.append(futures[fut])\n",
    "                            if errors_to_print > 0:\n",
    "                                print('WARN:', info)\n",
    "                                errors_to_print -= 1\n",
    "        except Exception as e:\n",
    "            if not force_threadpool:\n",
    "                print(\"[WARN] ProcessPoolExecutor failed:\", e)\n",
    "                print(\" → Falling back to ThreadPoolExecutor\")\n",
    "                all_graphs = []\n",
    "                skipped_missing_target, skipped_empty = [], []\n",
    "                errors_to_print = 3\n",
    "                with ThreadPoolExecutor(max_workers=max_workers) as ex:\n",
    "                    futures = {ex.submit(process_one, str(p), options): p for p in mesh_files}\n",
    "                    for fut in tqdm(as_completed(futures), total=len(futures), desc='Build graphs (thread)'):\n",
    "                        g, info = fut.result()\n",
    "                        if g is not None:\n",
    "                            all_graphs.append(g)\n",
    "                        else:\n",
    "                            kind = info[0]\n",
    "                            if kind in ('empty',):\n",
    "                                skipped_empty.append(futures[fut])\n",
    "                            else:\n",
    "                                skipped_missing_target.append(futures[fut])\n",
    "                                if errors_to_print > 0:\n",
    "                                    print('WARN:', info)\n",
    "                                    errors_to_print -= 1\n",
    "            else:\n",
    "                raise\n",
    "        t1 = time.time()\n",
    "        print(f\"Graph build elapsed: {t1 - t0:.2f}s\")\n",
    "\n",
    "        # 5) split\n",
    "        random.shuffle(all_graphs)\n",
    "        val_count = max(1, int(0.2 * len(all_graphs)))\n",
    "        val_graphs = all_graphs[:val_count]\n",
    "        train_graphs = all_graphs[val_count:]\n",
    "\n",
    "        print(f'Graphs built: {len(all_graphs)}')\n",
    "        print(f'Skipped (missing/invalid target): {len(skipped_missing_target)}')\n",
    "        print(f'Skipped (empty meshes): {len(skipped_empty)}')\n",
    "        if all_graphs:\n",
    "            print('Train:', len(train_graphs), 'Val:', len(val_graphs))\n",
    "            print('Feature dim:', train_graphs[0].x.size(1))\n",
    "\n",
    "        # 6) 캐시 저장\n",
    "        if use_cache and all_graphs:\n",
    "            cur_hash, cur_payload = _fingerprint(mesh_files, options)\n",
    "            torch.save((train_graphs, val_graphs), CACHE_PATH)\n",
    "            with open(CACHE_META, \"w\", encoding=\"utf-8\") as f:\n",
    "                json.dump({\"hash\": cur_hash, \"payload\": cur_payload}, f, sort_keys=True, ensure_ascii=False)\n",
    "\n",
    "            print(\"[CACHE] saved ✓\")\n",
    "\n",
    "    # 여기서부터 train_graphs, val_graphs 사용\n",
    "    print(\"Done. You now have train_graphs / val_graphs in memory.\")\n",
    "    # 필요하면 이 자리에서 torch.save로 별도 저장도 가능\n",
    "    # torch.save((train_graphs, val_graphs), \"graphs_latest.pt\")\n",
    "\n",
    "# Removed the if __name__ == \"__main__\": block and argument parsing\n",
    "from multiprocessing import freeze_support, set_start_method\n",
    "freeze_support()  # Windows 안전\n",
    "try:\n",
    "    set_start_method(\"spawn\")\n",
    "except RuntimeError:\n",
    "    # 이미 start method가 설정된 경우\n",
    "    pass\n",
    "\n",
    "# 캐시 파일 경로\n",
    "CACHE_META = Path(\"graphs_cache.meta.json\")\n",
    "CACHE_PATH = Path(\"graphs_cache.pt\")\n",
    "\n",
    "# 메타 파일 삭제\n",
    "if CACHE_META.exists():\n",
    "    CACHE_META.unlink()\n",
    "    print(\"Deleted\", CACHE_META)\n",
    "\n",
    "# 그래프 캐시 파일 삭제\n",
    "if CACHE_PATH.exists():\n",
    "    CACHE_PATH.unlink()\n",
    "    print(\"Deleted\", CACHE_PATH)\n",
    "\n",
    "main()"
   ]
  },
  {
   "cell_type": "code",
   "execution_count": 9,
   "metadata": {},
   "outputs": [
    {
     "name": "stdout",
     "output_type": "stream",
     "text": [
      "81 20\n",
      "tensor([0.3591, 0.4177])\n"
     ]
    }
   ],
   "source": [
    "import torch\n",
    "\n",
    "train_graphs, val_graphs = torch.load(\"graphs_cache.pt\", weights_only=False)\n",
    "\n",
    "print(len(train_graphs), len(val_graphs))\n",
    "print(train_graphs[0].y_graph)   # 첫 그래프 구조 확인\n"
   ]
  },
  {
   "cell_type": "code",
   "execution_count": null,
   "metadata": {},
   "outputs": [],
   "source": []
  }
 ],
 "metadata": {
  "accelerator": "GPU",
  "colab": {
   "authorship_tag": "ABX9TyP8L0Ol4QVTYptIl/aiNGYc",
   "gpuType": "A100",
   "machine_shape": "hm",
   "provenance": []
  },
  "kernelspec": {
   "display_name": "pyg5090",
   "language": "python",
   "name": "python3"
  },
  "language_info": {
   "codemirror_mode": {
    "name": "ipython",
    "version": 3
   },
   "file_extension": ".py",
   "mimetype": "text/x-python",
   "name": "python",
   "nbconvert_exporter": "python",
   "pygments_lexer": "ipython3",
   "version": "3.11.13"
  },
  "widgets": {
   "application/vnd.jupyter.widget-state+json": {
    "066f828c35634020830e137a040e3618": {
     "model_module": "@jupyter-widgets/controls",
     "model_module_version": "1.5.0",
     "model_name": "FloatProgressModel",
     "state": {
      "_dom_classes": [],
      "_model_module": "@jupyter-widgets/controls",
      "_model_module_version": "1.5.0",
      "_model_name": "FloatProgressModel",
      "_view_count": null,
      "_view_module": "@jupyter-widgets/controls",
      "_view_module_version": "1.5.0",
      "_view_name": "ProgressView",
      "bar_style": "success",
      "description": "",
      "description_tooltip": null,
      "layout": "IPY_MODEL_be5e4b29339d4e5d8f26697e6272b9da",
      "max": 150,
      "min": 0,
      "orientation": "horizontal",
      "style": "IPY_MODEL_257c6782bf8345eea2ed23548539bf43",
      "value": 150
     }
    },
    "0b9f8617d0674753b8cd898ffc4e421e": {
     "model_module": "@jupyter-widgets/controls",
     "model_module_version": "1.5.0",
     "model_name": "HBoxModel",
     "state": {
      "_dom_classes": [],
      "_model_module": "@jupyter-widgets/controls",
      "_model_module_version": "1.5.0",
      "_model_name": "HBoxModel",
      "_view_count": null,
      "_view_module": "@jupyter-widgets/controls",
      "_view_module_version": "1.5.0",
      "_view_name": "HBoxView",
      "box_style": "",
      "children": [
       "IPY_MODEL_72d9e4fc7fd247ca9b2bb083fdd06a02",
       "IPY_MODEL_bd458e11f2704409a0ff7073a96ab7dc",
       "IPY_MODEL_5b91b7196afe4b05b8febaba55261122"
      ],
      "layout": "IPY_MODEL_58f4ea9b730e4e2d9451b2fa491872d6"
     }
    },
    "11a03484dc474d369c0ebab163f1b994": {
     "model_module": "@jupyter-widgets/base",
     "model_module_version": "1.2.0",
     "model_name": "LayoutModel",
     "state": {
      "_model_module": "@jupyter-widgets/base",
      "_model_module_version": "1.2.0",
      "_model_name": "LayoutModel",
      "_view_count": null,
      "_view_module": "@jupyter-widgets/base",
      "_view_module_version": "1.2.0",
      "_view_name": "LayoutView",
      "align_content": null,
      "align_items": null,
      "align_self": null,
      "border": null,
      "bottom": null,
      "display": null,
      "flex": null,
      "flex_flow": null,
      "grid_area": null,
      "grid_auto_columns": null,
      "grid_auto_flow": null,
      "grid_auto_rows": null,
      "grid_column": null,
      "grid_gap": null,
      "grid_row": null,
      "grid_template_areas": null,
      "grid_template_columns": null,
      "grid_template_rows": null,
      "height": null,
      "justify_content": null,
      "justify_items": null,
      "left": null,
      "margin": null,
      "max_height": null,
      "max_width": null,
      "min_height": null,
      "min_width": null,
      "object_fit": null,
      "object_position": null,
      "order": null,
      "overflow": null,
      "overflow_x": null,
      "overflow_y": null,
      "padding": null,
      "right": null,
      "top": null,
      "visibility": null,
      "width": null
     }
    },
    "1aa0d5ac53444ffe9d19fc801f78ad5d": {
     "model_module": "@jupyter-widgets/controls",
     "model_module_version": "1.5.0",
     "model_name": "ProgressStyleModel",
     "state": {
      "_model_module": "@jupyter-widgets/controls",
      "_model_module_version": "1.5.0",
      "_model_name": "ProgressStyleModel",
      "_view_count": null,
      "_view_module": "@jupyter-widgets/base",
      "_view_module_version": "1.2.0",
      "_view_name": "StyleView",
      "bar_color": null,
      "description_width": ""
     }
    },
    "239b0ed783be4c36b47a08a78d04b302": {
     "model_module": "@jupyter-widgets/base",
     "model_module_version": "1.2.0",
     "model_name": "LayoutModel",
     "state": {
      "_model_module": "@jupyter-widgets/base",
      "_model_module_version": "1.2.0",
      "_model_name": "LayoutModel",
      "_view_count": null,
      "_view_module": "@jupyter-widgets/base",
      "_view_module_version": "1.2.0",
      "_view_name": "LayoutView",
      "align_content": null,
      "align_items": null,
      "align_self": null,
      "border": null,
      "bottom": null,
      "display": null,
      "flex": null,
      "flex_flow": null,
      "grid_area": null,
      "grid_auto_columns": null,
      "grid_auto_flow": null,
      "grid_auto_rows": null,
      "grid_column": null,
      "grid_gap": null,
      "grid_row": null,
      "grid_template_areas": null,
      "grid_template_columns": null,
      "grid_template_rows": null,
      "height": null,
      "justify_content": null,
      "justify_items": null,
      "left": null,
      "margin": null,
      "max_height": null,
      "max_width": null,
      "min_height": null,
      "min_width": null,
      "object_fit": null,
      "object_position": null,
      "order": null,
      "overflow": null,
      "overflow_x": null,
      "overflow_y": null,
      "padding": null,
      "right": null,
      "top": null,
      "visibility": null,
      "width": null
     }
    },
    "257c6782bf8345eea2ed23548539bf43": {
     "model_module": "@jupyter-widgets/controls",
     "model_module_version": "1.5.0",
     "model_name": "ProgressStyleModel",
     "state": {
      "_model_module": "@jupyter-widgets/controls",
      "_model_module_version": "1.5.0",
      "_model_name": "ProgressStyleModel",
      "_view_count": null,
      "_view_module": "@jupyter-widgets/base",
      "_view_module_version": "1.2.0",
      "_view_name": "StyleView",
      "bar_color": null,
      "description_width": ""
     }
    },
    "46892e563cd340b6a04c55f53f45a85b": {
     "model_module": "@jupyter-widgets/controls",
     "model_module_version": "1.5.0",
     "model_name": "DescriptionStyleModel",
     "state": {
      "_model_module": "@jupyter-widgets/controls",
      "_model_module_version": "1.5.0",
      "_model_name": "DescriptionStyleModel",
      "_view_count": null,
      "_view_module": "@jupyter-widgets/base",
      "_view_module_version": "1.2.0",
      "_view_name": "StyleView",
      "description_width": ""
     }
    },
    "52bf85048ca447e4b69fbde9dfd80e01": {
     "model_module": "@jupyter-widgets/controls",
     "model_module_version": "1.5.0",
     "model_name": "DescriptionStyleModel",
     "state": {
      "_model_module": "@jupyter-widgets/controls",
      "_model_module_version": "1.5.0",
      "_model_name": "DescriptionStyleModel",
      "_view_count": null,
      "_view_module": "@jupyter-widgets/base",
      "_view_module_version": "1.2.0",
      "_view_name": "StyleView",
      "description_width": ""
     }
    },
    "58f4ea9b730e4e2d9451b2fa491872d6": {
     "model_module": "@jupyter-widgets/base",
     "model_module_version": "1.2.0",
     "model_name": "LayoutModel",
     "state": {
      "_model_module": "@jupyter-widgets/base",
      "_model_module_version": "1.2.0",
      "_model_name": "LayoutModel",
      "_view_count": null,
      "_view_module": "@jupyter-widgets/base",
      "_view_module_version": "1.2.0",
      "_view_name": "LayoutView",
      "align_content": null,
      "align_items": null,
      "align_self": null,
      "border": null,
      "bottom": null,
      "display": null,
      "flex": null,
      "flex_flow": null,
      "grid_area": null,
      "grid_auto_columns": null,
      "grid_auto_flow": null,
      "grid_auto_rows": null,
      "grid_column": null,
      "grid_gap": null,
      "grid_row": null,
      "grid_template_areas": null,
      "grid_template_columns": null,
      "grid_template_rows": null,
      "height": null,
      "justify_content": null,
      "justify_items": null,
      "left": null,
      "margin": null,
      "max_height": null,
      "max_width": null,
      "min_height": null,
      "min_width": null,
      "object_fit": null,
      "object_position": null,
      "order": null,
      "overflow": null,
      "overflow_x": null,
      "overflow_y": null,
      "padding": null,
      "right": null,
      "top": null,
      "visibility": null,
      "width": null
     }
    },
    "5b2ba9b9a03a47bba0b0c610ead85405": {
     "model_module": "@jupyter-widgets/controls",
     "model_module_version": "1.5.0",
     "model_name": "DescriptionStyleModel",
     "state": {
      "_model_module": "@jupyter-widgets/controls",
      "_model_module_version": "1.5.0",
      "_model_name": "DescriptionStyleModel",
      "_view_count": null,
      "_view_module": "@jupyter-widgets/base",
      "_view_module_version": "1.2.0",
      "_view_name": "StyleView",
      "description_width": ""
     }
    },
    "5b91b7196afe4b05b8febaba55261122": {
     "model_module": "@jupyter-widgets/controls",
     "model_module_version": "1.5.0",
     "model_name": "HTMLModel",
     "state": {
      "_dom_classes": [],
      "_model_module": "@jupyter-widgets/controls",
      "_model_module_version": "1.5.0",
      "_model_name": "HTMLModel",
      "_view_count": null,
      "_view_module": "@jupyter-widgets/controls",
      "_view_module_version": "1.5.0",
      "_view_name": "HTMLView",
      "description": "",
      "description_tooltip": null,
      "layout": "IPY_MODEL_63a1ad446f604127b85b4b8a8e19c66e",
      "placeholder": "​",
      "style": "IPY_MODEL_52bf85048ca447e4b69fbde9dfd80e01",
      "value": " 4/0 [00:58&lt;00:00, 14.59s/it]"
     }
    },
    "631c88f6d0dd4a148f5ff8000c5a62b2": {
     "model_module": "@jupyter-widgets/controls",
     "model_module_version": "1.5.0",
     "model_name": "DescriptionStyleModel",
     "state": {
      "_model_module": "@jupyter-widgets/controls",
      "_model_module_version": "1.5.0",
      "_model_name": "DescriptionStyleModel",
      "_view_count": null,
      "_view_module": "@jupyter-widgets/base",
      "_view_module_version": "1.2.0",
      "_view_name": "StyleView",
      "description_width": ""
     }
    },
    "6325aee194474553bd47bf3760d01ca8": {
     "model_module": "@jupyter-widgets/base",
     "model_module_version": "1.2.0",
     "model_name": "LayoutModel",
     "state": {
      "_model_module": "@jupyter-widgets/base",
      "_model_module_version": "1.2.0",
      "_model_name": "LayoutModel",
      "_view_count": null,
      "_view_module": "@jupyter-widgets/base",
      "_view_module_version": "1.2.0",
      "_view_name": "LayoutView",
      "align_content": null,
      "align_items": null,
      "align_self": null,
      "border": null,
      "bottom": null,
      "display": null,
      "flex": null,
      "flex_flow": null,
      "grid_area": null,
      "grid_auto_columns": null,
      "grid_auto_flow": null,
      "grid_auto_rows": null,
      "grid_column": null,
      "grid_gap": null,
      "grid_row": null,
      "grid_template_areas": null,
      "grid_template_columns": null,
      "grid_template_rows": null,
      "height": null,
      "justify_content": null,
      "justify_items": null,
      "left": null,
      "margin": null,
      "max_height": null,
      "max_width": null,
      "min_height": null,
      "min_width": null,
      "object_fit": null,
      "object_position": null,
      "order": null,
      "overflow": null,
      "overflow_x": null,
      "overflow_y": null,
      "padding": null,
      "right": null,
      "top": null,
      "visibility": null,
      "width": null
     }
    },
    "63a1ad446f604127b85b4b8a8e19c66e": {
     "model_module": "@jupyter-widgets/base",
     "model_module_version": "1.2.0",
     "model_name": "LayoutModel",
     "state": {
      "_model_module": "@jupyter-widgets/base",
      "_model_module_version": "1.2.0",
      "_model_name": "LayoutModel",
      "_view_count": null,
      "_view_module": "@jupyter-widgets/base",
      "_view_module_version": "1.2.0",
      "_view_name": "LayoutView",
      "align_content": null,
      "align_items": null,
      "align_self": null,
      "border": null,
      "bottom": null,
      "display": null,
      "flex": null,
      "flex_flow": null,
      "grid_area": null,
      "grid_auto_columns": null,
      "grid_auto_flow": null,
      "grid_auto_rows": null,
      "grid_column": null,
      "grid_gap": null,
      "grid_row": null,
      "grid_template_areas": null,
      "grid_template_columns": null,
      "grid_template_rows": null,
      "height": null,
      "justify_content": null,
      "justify_items": null,
      "left": null,
      "margin": null,
      "max_height": null,
      "max_width": null,
      "min_height": null,
      "min_width": null,
      "object_fit": null,
      "object_position": null,
      "order": null,
      "overflow": null,
      "overflow_x": null,
      "overflow_y": null,
      "padding": null,
      "right": null,
      "top": null,
      "visibility": null,
      "width": null
     }
    },
    "707b3d58f11d4385af33b4d33aef4793": {
     "model_module": "@jupyter-widgets/controls",
     "model_module_version": "1.5.0",
     "model_name": "HTMLModel",
     "state": {
      "_dom_classes": [],
      "_model_module": "@jupyter-widgets/controls",
      "_model_module_version": "1.5.0",
      "_model_name": "HTMLModel",
      "_view_count": null,
      "_view_module": "@jupyter-widgets/controls",
      "_view_module_version": "1.5.0",
      "_view_name": "HTMLView",
      "description": "",
      "description_tooltip": null,
      "layout": "IPY_MODEL_6325aee194474553bd47bf3760d01ca8",
      "placeholder": "​",
      "style": "IPY_MODEL_b55c72f0e3e3448ab823542abb88cf08",
      "value": "Build graphs (proc): 100%"
     }
    },
    "72d9e4fc7fd247ca9b2bb083fdd06a02": {
     "model_module": "@jupyter-widgets/controls",
     "model_module_version": "1.5.0",
     "model_name": "HTMLModel",
     "state": {
      "_dom_classes": [],
      "_model_module": "@jupyter-widgets/controls",
      "_model_module_version": "1.5.0",
      "_model_name": "HTMLModel",
      "_view_count": null,
      "_view_module": "@jupyter-widgets/controls",
      "_view_module_version": "1.5.0",
      "_view_name": "HTMLView",
      "description": "",
      "description_tooltip": null,
      "layout": "IPY_MODEL_11a03484dc474d369c0ebab163f1b994",
      "placeholder": "​",
      "style": "IPY_MODEL_d9f274c37a12488f832b2df8c58e5fb7",
      "value": "Fetching ... files: "
     }
    },
    "7da18b5576cf4c9ca9ee7a878532f321": {
     "model_module": "@jupyter-widgets/controls",
     "model_module_version": "1.5.0",
     "model_name": "FloatProgressModel",
     "state": {
      "_dom_classes": [],
      "_model_module": "@jupyter-widgets/controls",
      "_model_module_version": "1.5.0",
      "_model_name": "FloatProgressModel",
      "_view_count": null,
      "_view_module": "@jupyter-widgets/controls",
      "_view_module_version": "1.5.0",
      "_view_name": "ProgressView",
      "bar_style": "success",
      "description": "",
      "description_tooltip": null,
      "layout": "IPY_MODEL_d974434ff1854bd69fa28d992ca09e0b",
      "max": 5621037590,
      "min": 0,
      "orientation": "horizontal",
      "style": "IPY_MODEL_b52553857d09425d8b0ad5ab0d651f91",
      "value": 5621037590
     }
    },
    "8b90bee9c0b542309c8ec720ec651998": {
     "model_module": "@jupyter-widgets/controls",
     "model_module_version": "1.5.0",
     "model_name": "HTMLModel",
     "state": {
      "_dom_classes": [],
      "_model_module": "@jupyter-widgets/controls",
      "_model_module_version": "1.5.0",
      "_model_name": "HTMLModel",
      "_view_count": null,
      "_view_module": "@jupyter-widgets/controls",
      "_view_module_version": "1.5.0",
      "_view_name": "HTMLView",
      "description": "",
      "description_tooltip": null,
      "layout": "IPY_MODEL_a6afc3f0fa9f4d6ebe3a5d426e785de6",
      "placeholder": "​",
      "style": "IPY_MODEL_5b2ba9b9a03a47bba0b0c610ead85405",
      "value": " 5.62G/5.62G [01:13&lt;00:00, 86.5MB/s]"
     }
    },
    "9e1453459aae45dd83a88c76d42a583c": {
     "model_module": "@jupyter-widgets/controls",
     "model_module_version": "1.5.0",
     "model_name": "HTMLModel",
     "state": {
      "_dom_classes": [],
      "_model_module": "@jupyter-widgets/controls",
      "_model_module_version": "1.5.0",
      "_model_name": "HTMLModel",
      "_view_count": null,
      "_view_module": "@jupyter-widgets/controls",
      "_view_module_version": "1.5.0",
      "_view_name": "HTMLView",
      "description": "",
      "description_tooltip": null,
      "layout": "IPY_MODEL_239b0ed783be4c36b47a08a78d04b302",
      "placeholder": "​",
      "style": "IPY_MODEL_46892e563cd340b6a04c55f53f45a85b",
      "value": " 150/150 [13:38&lt;00:00,  5.38s/it]"
     }
    },
    "a6afc3f0fa9f4d6ebe3a5d426e785de6": {
     "model_module": "@jupyter-widgets/base",
     "model_module_version": "1.2.0",
     "model_name": "LayoutModel",
     "state": {
      "_model_module": "@jupyter-widgets/base",
      "_model_module_version": "1.2.0",
      "_model_name": "LayoutModel",
      "_view_count": null,
      "_view_module": "@jupyter-widgets/base",
      "_view_module_version": "1.2.0",
      "_view_name": "LayoutView",
      "align_content": null,
      "align_items": null,
      "align_self": null,
      "border": null,
      "bottom": null,
      "display": null,
      "flex": null,
      "flex_flow": null,
      "grid_area": null,
      "grid_auto_columns": null,
      "grid_auto_flow": null,
      "grid_auto_rows": null,
      "grid_column": null,
      "grid_gap": null,
      "grid_row": null,
      "grid_template_areas": null,
      "grid_template_columns": null,
      "grid_template_rows": null,
      "height": null,
      "justify_content": null,
      "justify_items": null,
      "left": null,
      "margin": null,
      "max_height": null,
      "max_width": null,
      "min_height": null,
      "min_width": null,
      "object_fit": null,
      "object_position": null,
      "order": null,
      "overflow": null,
      "overflow_x": null,
      "overflow_y": null,
      "padding": null,
      "right": null,
      "top": null,
      "visibility": null,
      "width": null
     }
    },
    "b25a0c511f944cf99c510fc902707fd8": {
     "model_module": "@jupyter-widgets/controls",
     "model_module_version": "1.5.0",
     "model_name": "HBoxModel",
     "state": {
      "_dom_classes": [],
      "_model_module": "@jupyter-widgets/controls",
      "_model_module_version": "1.5.0",
      "_model_name": "HBoxModel",
      "_view_count": null,
      "_view_module": "@jupyter-widgets/controls",
      "_view_module_version": "1.5.0",
      "_view_name": "HBoxView",
      "box_style": "",
      "children": [
       "IPY_MODEL_c876ee796d254ff7849974f1e43d0670",
       "IPY_MODEL_7da18b5576cf4c9ca9ee7a878532f321",
       "IPY_MODEL_8b90bee9c0b542309c8ec720ec651998"
      ],
      "layout": "IPY_MODEL_b26f7a351e4b4b11a65f4d372beedfab"
     }
    },
    "b26f7a351e4b4b11a65f4d372beedfab": {
     "model_module": "@jupyter-widgets/base",
     "model_module_version": "1.2.0",
     "model_name": "LayoutModel",
     "state": {
      "_model_module": "@jupyter-widgets/base",
      "_model_module_version": "1.2.0",
      "_model_name": "LayoutModel",
      "_view_count": null,
      "_view_module": "@jupyter-widgets/base",
      "_view_module_version": "1.2.0",
      "_view_name": "LayoutView",
      "align_content": null,
      "align_items": null,
      "align_self": null,
      "border": null,
      "bottom": null,
      "display": null,
      "flex": null,
      "flex_flow": null,
      "grid_area": null,
      "grid_auto_columns": null,
      "grid_auto_flow": null,
      "grid_auto_rows": null,
      "grid_column": null,
      "grid_gap": null,
      "grid_row": null,
      "grid_template_areas": null,
      "grid_template_columns": null,
      "grid_template_rows": null,
      "height": null,
      "justify_content": null,
      "justify_items": null,
      "left": null,
      "margin": null,
      "max_height": null,
      "max_width": null,
      "min_height": null,
      "min_width": null,
      "object_fit": null,
      "object_position": null,
      "order": null,
      "overflow": null,
      "overflow_x": null,
      "overflow_y": null,
      "padding": null,
      "right": null,
      "top": null,
      "visibility": null,
      "width": null
     }
    },
    "b52553857d09425d8b0ad5ab0d651f91": {
     "model_module": "@jupyter-widgets/controls",
     "model_module_version": "1.5.0",
     "model_name": "ProgressStyleModel",
     "state": {
      "_model_module": "@jupyter-widgets/controls",
      "_model_module_version": "1.5.0",
      "_model_name": "ProgressStyleModel",
      "_view_count": null,
      "_view_module": "@jupyter-widgets/base",
      "_view_module_version": "1.2.0",
      "_view_name": "StyleView",
      "bar_color": null,
      "description_width": ""
     }
    },
    "b55c72f0e3e3448ab823542abb88cf08": {
     "model_module": "@jupyter-widgets/controls",
     "model_module_version": "1.5.0",
     "model_name": "DescriptionStyleModel",
     "state": {
      "_model_module": "@jupyter-widgets/controls",
      "_model_module_version": "1.5.0",
      "_model_name": "DescriptionStyleModel",
      "_view_count": null,
      "_view_module": "@jupyter-widgets/base",
      "_view_module_version": "1.2.0",
      "_view_name": "StyleView",
      "description_width": ""
     }
    },
    "bd458e11f2704409a0ff7073a96ab7dc": {
     "model_module": "@jupyter-widgets/controls",
     "model_module_version": "1.5.0",
     "model_name": "FloatProgressModel",
     "state": {
      "_dom_classes": [],
      "_model_module": "@jupyter-widgets/controls",
      "_model_module_version": "1.5.0",
      "_model_name": "FloatProgressModel",
      "_view_count": null,
      "_view_module": "@jupyter-widgets/controls",
      "_view_module_version": "1.5.0",
      "_view_name": "ProgressView",
      "bar_style": "success",
      "description": "",
      "description_tooltip": null,
      "layout": "IPY_MODEL_c3db6de52472408dbeadd695b7a9058d",
      "max": 1,
      "min": 0,
      "orientation": "horizontal",
      "style": "IPY_MODEL_1aa0d5ac53444ffe9d19fc801f78ad5d",
      "value": 1
     }
    },
    "bda034c676a2458aa66f0cc299d3d9b0": {
     "model_module": "@jupyter-widgets/controls",
     "model_module_version": "1.5.0",
     "model_name": "HBoxModel",
     "state": {
      "_dom_classes": [],
      "_model_module": "@jupyter-widgets/controls",
      "_model_module_version": "1.5.0",
      "_model_name": "HBoxModel",
      "_view_count": null,
      "_view_module": "@jupyter-widgets/controls",
      "_view_module_version": "1.5.0",
      "_view_name": "HBoxView",
      "box_style": "",
      "children": [
       "IPY_MODEL_707b3d58f11d4385af33b4d33aef4793",
       "IPY_MODEL_066f828c35634020830e137a040e3618",
       "IPY_MODEL_9e1453459aae45dd83a88c76d42a583c"
      ],
      "layout": "IPY_MODEL_d8b187f076484875b6c92323a4ab9618"
     }
    },
    "be5e4b29339d4e5d8f26697e6272b9da": {
     "model_module": "@jupyter-widgets/base",
     "model_module_version": "1.2.0",
     "model_name": "LayoutModel",
     "state": {
      "_model_module": "@jupyter-widgets/base",
      "_model_module_version": "1.2.0",
      "_model_name": "LayoutModel",
      "_view_count": null,
      "_view_module": "@jupyter-widgets/base",
      "_view_module_version": "1.2.0",
      "_view_name": "LayoutView",
      "align_content": null,
      "align_items": null,
      "align_self": null,
      "border": null,
      "bottom": null,
      "display": null,
      "flex": null,
      "flex_flow": null,
      "grid_area": null,
      "grid_auto_columns": null,
      "grid_auto_flow": null,
      "grid_auto_rows": null,
      "grid_column": null,
      "grid_gap": null,
      "grid_row": null,
      "grid_template_areas": null,
      "grid_template_columns": null,
      "grid_template_rows": null,
      "height": null,
      "justify_content": null,
      "justify_items": null,
      "left": null,
      "margin": null,
      "max_height": null,
      "max_width": null,
      "min_height": null,
      "min_width": null,
      "object_fit": null,
      "object_position": null,
      "order": null,
      "overflow": null,
      "overflow_x": null,
      "overflow_y": null,
      "padding": null,
      "right": null,
      "top": null,
      "visibility": null,
      "width": null
     }
    },
    "c3db6de52472408dbeadd695b7a9058d": {
     "model_module": "@jupyter-widgets/base",
     "model_module_version": "1.2.0",
     "model_name": "LayoutModel",
     "state": {
      "_model_module": "@jupyter-widgets/base",
      "_model_module_version": "1.2.0",
      "_model_name": "LayoutModel",
      "_view_count": null,
      "_view_module": "@jupyter-widgets/base",
      "_view_module_version": "1.2.0",
      "_view_name": "LayoutView",
      "align_content": null,
      "align_items": null,
      "align_self": null,
      "border": null,
      "bottom": null,
      "display": null,
      "flex": null,
      "flex_flow": null,
      "grid_area": null,
      "grid_auto_columns": null,
      "grid_auto_flow": null,
      "grid_auto_rows": null,
      "grid_column": null,
      "grid_gap": null,
      "grid_row": null,
      "grid_template_areas": null,
      "grid_template_columns": null,
      "grid_template_rows": null,
      "height": null,
      "justify_content": null,
      "justify_items": null,
      "left": null,
      "margin": null,
      "max_height": null,
      "max_width": null,
      "min_height": null,
      "min_width": null,
      "object_fit": null,
      "object_position": null,
      "order": null,
      "overflow": null,
      "overflow_x": null,
      "overflow_y": null,
      "padding": null,
      "right": null,
      "top": null,
      "visibility": null,
      "width": "20px"
     }
    },
    "c876ee796d254ff7849974f1e43d0670": {
     "model_module": "@jupyter-widgets/controls",
     "model_module_version": "1.5.0",
     "model_name": "HTMLModel",
     "state": {
      "_dom_classes": [],
      "_model_module": "@jupyter-widgets/controls",
      "_model_module_version": "1.5.0",
      "_model_name": "HTMLModel",
      "_view_count": null,
      "_view_module": "@jupyter-widgets/controls",
      "_view_module_version": "1.5.0",
      "_view_name": "HTMLView",
      "description": "",
      "description_tooltip": null,
      "layout": "IPY_MODEL_e802f88789ac493799f4b29e2fc2c4cb",
      "placeholder": "​",
      "style": "IPY_MODEL_631c88f6d0dd4a148f5ff8000c5a62b2",
      "value": "volume_1.vtu: 100%"
     }
    },
    "d8b187f076484875b6c92323a4ab9618": {
     "model_module": "@jupyter-widgets/base",
     "model_module_version": "1.2.0",
     "model_name": "LayoutModel",
     "state": {
      "_model_module": "@jupyter-widgets/base",
      "_model_module_version": "1.2.0",
      "_model_name": "LayoutModel",
      "_view_count": null,
      "_view_module": "@jupyter-widgets/base",
      "_view_module_version": "1.2.0",
      "_view_name": "LayoutView",
      "align_content": null,
      "align_items": null,
      "align_self": null,
      "border": null,
      "bottom": null,
      "display": null,
      "flex": null,
      "flex_flow": null,
      "grid_area": null,
      "grid_auto_columns": null,
      "grid_auto_flow": null,
      "grid_auto_rows": null,
      "grid_column": null,
      "grid_gap": null,
      "grid_row": null,
      "grid_template_areas": null,
      "grid_template_columns": null,
      "grid_template_rows": null,
      "height": null,
      "justify_content": null,
      "justify_items": null,
      "left": null,
      "margin": null,
      "max_height": null,
      "max_width": null,
      "min_height": null,
      "min_width": null,
      "object_fit": null,
      "object_position": null,
      "order": null,
      "overflow": null,
      "overflow_x": null,
      "overflow_y": null,
      "padding": null,
      "right": null,
      "top": null,
      "visibility": null,
      "width": null
     }
    },
    "d974434ff1854bd69fa28d992ca09e0b": {
     "model_module": "@jupyter-widgets/base",
     "model_module_version": "1.2.0",
     "model_name": "LayoutModel",
     "state": {
      "_model_module": "@jupyter-widgets/base",
      "_model_module_version": "1.2.0",
      "_model_name": "LayoutModel",
      "_view_count": null,
      "_view_module": "@jupyter-widgets/base",
      "_view_module_version": "1.2.0",
      "_view_name": "LayoutView",
      "align_content": null,
      "align_items": null,
      "align_self": null,
      "border": null,
      "bottom": null,
      "display": null,
      "flex": null,
      "flex_flow": null,
      "grid_area": null,
      "grid_auto_columns": null,
      "grid_auto_flow": null,
      "grid_auto_rows": null,
      "grid_column": null,
      "grid_gap": null,
      "grid_row": null,
      "grid_template_areas": null,
      "grid_template_columns": null,
      "grid_template_rows": null,
      "height": null,
      "justify_content": null,
      "justify_items": null,
      "left": null,
      "margin": null,
      "max_height": null,
      "max_width": null,
      "min_height": null,
      "min_width": null,
      "object_fit": null,
      "object_position": null,
      "order": null,
      "overflow": null,
      "overflow_x": null,
      "overflow_y": null,
      "padding": null,
      "right": null,
      "top": null,
      "visibility": null,
      "width": null
     }
    },
    "d9f274c37a12488f832b2df8c58e5fb7": {
     "model_module": "@jupyter-widgets/controls",
     "model_module_version": "1.5.0",
     "model_name": "DescriptionStyleModel",
     "state": {
      "_model_module": "@jupyter-widgets/controls",
      "_model_module_version": "1.5.0",
      "_model_name": "DescriptionStyleModel",
      "_view_count": null,
      "_view_module": "@jupyter-widgets/base",
      "_view_module_version": "1.2.0",
      "_view_name": "StyleView",
      "description_width": ""
     }
    },
    "e802f88789ac493799f4b29e2fc2c4cb": {
     "model_module": "@jupyter-widgets/base",
     "model_module_version": "1.2.0",
     "model_name": "LayoutModel",
     "state": {
      "_model_module": "@jupyter-widgets/base",
      "_model_module_version": "1.2.0",
      "_model_name": "LayoutModel",
      "_view_count": null,
      "_view_module": "@jupyter-widgets/base",
      "_view_module_version": "1.2.0",
      "_view_name": "LayoutView",
      "align_content": null,
      "align_items": null,
      "align_self": null,
      "border": null,
      "bottom": null,
      "display": null,
      "flex": null,
      "flex_flow": null,
      "grid_area": null,
      "grid_auto_columns": null,
      "grid_auto_flow": null,
      "grid_auto_rows": null,
      "grid_column": null,
      "grid_gap": null,
      "grid_row": null,
      "grid_template_areas": null,
      "grid_template_columns": null,
      "grid_template_rows": null,
      "height": null,
      "justify_content": null,
      "justify_items": null,
      "left": null,
      "margin": null,
      "max_height": null,
      "max_width": null,
      "min_height": null,
      "min_width": null,
      "object_fit": null,
      "object_position": null,
      "order": null,
      "overflow": null,
      "overflow_x": null,
      "overflow_y": null,
      "padding": null,
      "right": null,
      "top": null,
      "visibility": null,
      "width": null
     }
    }
   }
  }
 },
 "nbformat": 4,
 "nbformat_minor": 0
}
